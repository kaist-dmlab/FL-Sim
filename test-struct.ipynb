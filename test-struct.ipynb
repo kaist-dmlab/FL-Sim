{
 "cells": [
  {
   "cell_type": "markdown",
   "metadata": {},
   "source": [
    "# Test k-ary Fat Tree & Shortest Path Hop Distance"
   ]
  },
  {
   "cell_type": "code",
   "execution_count": 1,
   "metadata": {},
   "outputs": [
    {
     "name": "stderr",
     "output_type": "stream",
     "text": [
      "WARNING: Logging before flag parsing goes to stderr.\n",
      "W1015 22:01:34.725929 140595936782080 deprecation_wrapper.py:119] From /home/dmlab/prosopher/FL-Sim/fl_core.py:6: The name tf.ConfigProto is deprecated. Please use tf.compat.v1.ConfigProto instead.\n",
      "\n"
     ]
    },
    {
     "data": {
      "text/plain": [
       "<Figure size 640x480 with 1 Axes>"
      ]
     },
     "metadata": {},
     "output_type": "display_data"
    }
   ],
   "source": [
    "import matplotlib.pyplot as plt\n",
    "import networkx as nx\n",
    "import fl_struct\n",
    "\n",
    "NUM_NODES = 200\n",
    "NUM_EDGES = 10\n",
    "\n",
    "ft = fl_struct.FatTree(NUM_NODES, NUM_EDGES)\n",
    "nx.draw(ft.g)\n",
    "plt.show()\n",
    "\n",
    "#ft.simulate([ [ i, 0 ] for i in range(2) ])\n",
    "#ft.simulate([ [ i, 0 ] for i in range(16) ])"
   ]
  },
  {
   "cell_type": "markdown",
   "metadata": {},
   "source": [
    "# Test Cloud Struct"
   ]
  },
  {
   "cell_type": "code",
   "execution_count": 2,
   "metadata": {},
   "outputs": [
    {
     "name": "stdout",
     "output_type": "stream",
     "text": [
      "60000 100 100\n",
      "Simulation Finished(d_group) : 0.019 s\n",
      "Simulation Finished(d_global) : 0.077 s\n",
      "0.019109757800000002 0.0769473054\n",
      "Simulation Finished(d_group) : 0.022 s\n",
      "Simulation Finished(d_global) : 0.149 s\n",
      "0.0216480558 0.1490322029\n"
     ]
    }
   ],
   "source": [
    "import tensorflow as tf\n",
    "import fl_param\n",
    "import fl_struct\n",
    "import fl_data\n",
    "\n",
    "NUM_NODES = 100\n",
    "NUM_EDGES = 10\n",
    "\n",
    "trainData, testData = tf.keras.datasets.mnist.load_data()\n",
    "(trainData_byNid, train_z) = fl_data.groupByEdge(fl_param.MODEL_NAME, fl_param.DATA_NAME, trainData, 'one', 'half', NUM_NODES, NUM_EDGES)\n",
    "\n",
    "ft = fl_struct.FatTree(NUM_NODES, NUM_EDGES)\n",
    "c = fl_struct.Cloud(ft, trainData_byNid, NUM_EDGES)\n",
    "c.digest(train_z)\n",
    "\n",
    "print(c.get_D(), len(c.get_N()), len(c.get_nid2_D_i()))\n",
    "print(c.get_d_group(True), c.get_d_global(True))\n",
    "print(c.get_d_group(False), c.get_d_global(False))"
   ]
  },
  {
   "cell_type": "markdown",
   "metadata": {},
   "source": [
    "# Digest Test"
   ]
  },
  {
   "cell_type": "code",
   "execution_count": 3,
   "metadata": {},
   "outputs": [
    {
     "name": "stdout",
     "output_type": "stream",
     "text": [
      "Simulation Finished(d_group) : 0.022 s\n",
      "Simulation Finished(d_global) : 0.149 s\n",
      "0.0216480558 0.1490322029 0.14525757104003728\n",
      "Simulation Finished(d_group) : 0.027 s\n",
      "Simulation Finished(d_global) : 0.149 s\n",
      "0.0265716164 0.1490322029 0.17829446175354094\n"
     ]
    }
   ],
   "source": [
    "import tensorflow as tf\n",
    "import fl_param\n",
    "import fl_struct\n",
    "import fl_data\n",
    "\n",
    "NUM_NODES = 100\n",
    "NUM_EDGES = 10\n",
    "\n",
    "trainData, testData = tf.keras.datasets.mnist.load_data()\n",
    "(trainData_byNid, train_z) = fl_data.groupByEdge(fl_param.MODEL_NAME, fl_param.DATA_NAME, trainData, 'one', 'all', NUM_NODES, NUM_EDGES)\n",
    "\n",
    "ft = fl_struct.FatTree(NUM_NODES, NUM_EDGES)\n",
    "c = fl_struct.Cloud(ft, trainData_byNid, NUM_EDGES)\n",
    "c.digest(train_z)\n",
    "d_group = c.get_d_group(False)\n",
    "d_global = c.get_d_global(False)\n",
    "print(d_group, d_global, d_group/d_global)\n",
    "\n",
    "# Node Membership 하나 변경\n",
    "train_z[0] = 9 # Group.digest() 에 k 를 로그 찍으며 0 과 9 번 그룹만 나옴\n",
    "c.digest(train_z)\n",
    "d_group = c.get_d_group(False)\n",
    "d_global = c.get_d_global(False)\n",
    "print(d_group, d_global, d_group/d_global)"
   ]
  }
 ],
 "metadata": {
  "kernelspec": {
   "display_name": "Python 3",
   "language": "python",
   "name": "python3"
  },
  "language_info": {
   "codemirror_mode": {
    "name": "ipython",
    "version": 3
   },
   "file_extension": ".py",
   "mimetype": "text/x-python",
   "name": "python",
   "nbconvert_exporter": "python",
   "pygments_lexer": "ipython3",
   "version": "3.5.2"
  }
 },
 "nbformat": 4,
 "nbformat_minor": 4
}
