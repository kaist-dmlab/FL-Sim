{
 "cells": [
  {
   "cell_type": "markdown",
   "metadata": {},
   "source": [
    "# Tradeoff Analysis"
   ]
  },
  {
   "cell_type": "code",
   "execution_count": null,
   "metadata": {},
   "outputs": [],
   "source": [
    "import os\n",
    "import re\n",
    "\n",
    "import fl_const\n",
    "import fl_util\n",
    "\n",
    "fl_util.initialize()\n",
    "\n",
    "JSON_POSTFIX = '.json'\n",
    "COST_CSV_POSTFIX = 'cost.csv'\n",
    "\n",
    "# def analyzeTradeoff(modelName, dataName, algName, nodeType, edgeType, tau1, tau2, numGroupsList):\n",
    "#     fileNameBase = modelName + '_' + dataName + '_' + algName + '_' + nodeType + edgeType + '_' + \\\n",
    "#                     str(tau1) + '_' + str(tau2)\n",
    "def analyzeTradeoff(scaleFactor, modelName, dataName, algName, nodeType, edgeType, tau1, tau2, numGroupsList):\n",
    "    fileNameBase = 'scaleFactor=' + str(scaleFactor) + '_' + modelName + '_' + dataName + '_' + algName + '_' + nodeType + edgeType + '_' + \\\n",
    "                    str(tau1) + '_' + str(tau2)\n",
    "    print(fileNameBase)\n",
    "    print('#groups,cost,d_group,d_global,accuracy')\n",
    "    for numGroups in numGroupsList:\n",
    "        groupFileNameBase = fileNameBase + '_' + str(numGroups)\n",
    "        jsonFilePath = os.path.join(fl_const.LOG_DIR_PATH, groupFileNameBase + JSON_POSTFIX)\n",
    "                    \n",
    "        # cost 파일을 읽고 최종 cost 추출\n",
    "        fileCost = open(os.path.join(fl_const.LOG_DIR_PATH, groupFileNameBase + '_' + COST_CSV_POSTFIX), 'r')\n",
    "        lines = fileCost.readlines()\n",
    "        tokens = lines[-1].rstrip('\\n').split(',')\n",
    "        cost = float(tokens[3])\n",
    "        \n",
    "        # time 파일을 읽고 최종 accuracy 추출\n",
    "        for fileName in os.listdir(fl_const.LOG_DIR_PATH):\n",
    "            if fileName.startswith(groupFileNameBase) and fileName.endswith(fl_const.TIME_CSV_POSTFIX):\n",
    "                fileTime = open(os.path.join(fl_const.LOG_DIR_PATH, fileName), 'r')\n",
    "                break\n",
    "        lines = fileTime.readlines()\n",
    "        tokens = lines[-1].rstrip('\\n').split(',')\n",
    "        acc = float(tokens[2])\n",
    "        \n",
    "#         for fileName in os.listdir(fl_const.LOG_DIR_PATH):\n",
    "#             if fileName.startswith(groupFileNameBase) and fileName.endswith(fl_const.TIME_CSV_POSTFIX):\n",
    "#                 m = re.match(groupFileNameBase + '_(\\d+)_(\\d+)_0.(\\d+)_' + fl_const.TIME_CSV_POSTFIX, fileName)\n",
    "#                 if m: acc = int(m.group(3)) / 10\n",
    "        \n",
    "        # json 정보 추출\n",
    "        json = fl_util.loadJson(jsonFilePath)\n",
    "        print('%d,%.3f,%.3f,%.3f,%.3f' % (numGroups, cost, json['d_group'], json['d_global'], acc))\n",
    "    print()\n",
    "    \n",
    "modelName = '2nn'\n",
    "dataName = 'mnist-o'\n",
    "algName = 'fedavg-ic'\n",
    "tau1 = 1\n",
    "tau2 = 5\n",
    "for scaleFactor in [1.0, 2.0]:\n",
    "    analyzeTradeoff(scaleFactor, modelName, dataName, algName, 't', 't', tau1, tau2, [2, 6, 10, 12])"
   ]
  }
 ],
 "metadata": {
  "kernelspec": {
   "display_name": "Python 3",
   "language": "python",
   "name": "python3"
  },
  "language_info": {
   "codemirror_mode": {
    "name": "ipython",
    "version": 3
   },
   "file_extension": ".py",
   "mimetype": "text/x-python",
   "name": "python",
   "nbconvert_exporter": "python",
   "pygments_lexer": "ipython3",
   "version": "3.5.2"
  }
 },
 "nbformat": 4,
 "nbformat_minor": 4
}
