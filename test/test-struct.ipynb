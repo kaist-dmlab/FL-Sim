{
 "cells": [
  {
   "cell_type": "markdown",
   "metadata": {},
   "source": [
    "# Test k-ary Fat Tree & Shortest Path Hop Distance"
   ]
  },
  {
   "cell_type": "code",
   "execution_count": 1,
   "metadata": {},
   "outputs": [
    {
     "data": {
      "text/plain": [
       "<Figure size 640x480 with 1 Axes>"
      ]
     },
     "metadata": {},
     "output_type": "display_data"
    }
   ],
   "source": [
    "import matplotlib.pyplot as plt\n",
    "import networkx as nx\n",
    "import os\n",
    "\n",
    "import fl_struct\n",
    "import fl_data\n",
    "import fl_util\n",
    "\n",
    "np.random.seed(1234)\n",
    "\n",
    "DATA_NAME = 'mnist-o'\n",
    "modelSize = 1000\n",
    "numNodes = 100\n",
    "numEdges = 10\n",
    "\n",
    "ft = fl_struct.FatTree(modelSize, numNodes, numEdges)\n",
    "nx.draw(ft.g)\n",
    "plt.show()\n",
    "\n",
    "#ft.simulate([ [ i, 0 ] for i in range(2) ])\n",
    "#ft.simulate([ [ i, 0 ] for i in range(16) ])"
   ]
  },
  {
   "cell_type": "markdown",
   "metadata": {},
   "source": [
    "# Test Cloud Struct"
   ]
  },
  {
   "cell_type": "code",
   "execution_count": 2,
   "metadata": {},
   "outputs": [
    {
     "name": "stdout",
     "output_type": "stream",
     "text": [
      "Simulation Finished(d_group) : 0.002 s\n",
      "Simulation Finished(d_global) : 0.006 s\n",
      "0.00155465 0.00625995\n",
      "16.0 286.0\n",
      "Simulation Finished(d_group) : 0.002 s\n",
      "Simulation Finished(d_global) : 0.012 s\n",
      "0.00176115 0.012124325\n",
      "34.0 574.0\n"
     ]
    }
   ],
   "source": [
    "trainData_by1Nid = fl_util.deserialize(os.path.join('..', 'data', DATA_NAME, 'train'))\n",
    "(trainData_byNid, train_z) = fl_data.groupByEdge(trainData_by1Nid, 1, 5, numNodes, numEdges)\n",
    "\n",
    "ft = fl_struct.FatTree(modelSize, numNodes, numEdges)\n",
    "c = fl_struct.Cloud(ft, trainData_byNid, numEdges)\n",
    "c.digest(train_z)\n",
    "\n",
    "print(c.get_d_group(True), c.get_d_global(True))\n",
    "print(c.get_hpp_group(True), c.get_hpp_global(True))\n",
    "print(c.get_d_group(False), c.get_d_global(False))\n",
    "print(c.get_hpp_group(False), c.get_hpp_global(False))"
   ]
  },
  {
   "cell_type": "markdown",
   "metadata": {},
   "source": [
    "# Digest Test"
   ]
  },
  {
   "cell_type": "code",
   "execution_count": 3,
   "metadata": {},
   "outputs": [
    {
     "name": "stdout",
     "output_type": "stream",
     "text": [
      "Simulation Finished(d_group) : 0.002 s\n",
      "Simulation Finished(d_global) : 0.012 s\n",
      "0.00176115 0.012124325 0.14525757104003728\n",
      "Simulation Finished(d_group) : 0.002 s\n",
      "Simulation Finished(d_global) : 0.012 s\n",
      "0.0021617 0.012124325 0.1782944617535409\n"
     ]
    }
   ],
   "source": [
    "trainData_by1Nid = fl_util.deserialize(os.path.join('..', 'data', DATA_NAME, 'train'))\n",
    "(trainData_byNid, train_z) = fl_data.groupByEdge(trainData_by1Nid, 1, 10, numNodes, numEdges)\n",
    "\n",
    "ft = fl_struct.FatTree(modelSize, numNodes, numEdges)\n",
    "c = fl_struct.Cloud(ft, trainData_byNid, numEdges)\n",
    "c.digest(train_z)\n",
    "d_group = c.get_d_group(False)\n",
    "d_global = c.get_d_global(False)\n",
    "print(d_group, d_global, d_group/d_global)\n",
    "\n",
    "# Node Membership 하나 변경\n",
    "train_z[0] = 9 # Group.digest() 에 k 를 로그 찍으며 0 과 9 번 그룹만 나옴\n",
    "c.digest(train_z)\n",
    "d_group = c.get_d_group(False)\n",
    "d_global = c.get_d_global(False)\n",
    "print(d_group, d_global, d_group/d_global)"
   ]
  }
 ],
 "metadata": {
  "kernelspec": {
   "display_name": "Python 3",
   "language": "python",
   "name": "python3"
  },
  "language_info": {
   "codemirror_mode": {
    "name": "ipython",
    "version": 3
   },
   "file_extension": ".py",
   "mimetype": "text/x-python",
   "name": "python",
   "nbconvert_exporter": "python",
   "pygments_lexer": "ipython3",
   "version": "3.5.2"
  }
 },
 "nbformat": 4,
 "nbformat_minor": 4
}
