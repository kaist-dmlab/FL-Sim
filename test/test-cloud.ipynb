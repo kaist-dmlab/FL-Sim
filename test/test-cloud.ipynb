{
 "cells": [
  {
   "cell_type": "markdown",
   "metadata": {},
   "source": [
    "# Test k-ary Fat Tree & Shortest Path Hop Distance"
   ]
  },
  {
   "cell_type": "code",
   "execution_count": 1,
   "metadata": {},
   "outputs": [
    {
     "data": {
      "text/plain": [
       "<Figure size 640x480 with 1 Axes>"
      ]
     },
     "metadata": {},
     "output_type": "display_data"
    }
   ],
   "source": [
    "import importlib\n",
    "import matplotlib.pyplot as plt\n",
    "import random\n",
    "import networkx as nx\n",
    "import numpy as np\n",
    "import os\n",
    "\n",
    "from cloud.cloud import Cloud\n",
    "import fl_data\n",
    "import fl_util\n",
    "\n",
    "random.seed(1234)\n",
    "np.random.seed(1234)\n",
    "\n",
    "DATA_NAME = 'mnist-o'\n",
    "modelSize = 1000\n",
    "numNodes = 100\n",
    "numEdges = 10\n",
    "\n",
    "topologyPackagePath = 'cloud.jellyfish'\n",
    "topologyModule = importlib.import_module(topologyPackagePath)\n",
    "Topology = getattr(topologyModule, 'Topology')\n",
    "topology = Topology(modelSize, numNodes, numEdges)\n",
    "nx.draw(topology.g)\n",
    "plt.show()"
   ]
  },
  {
   "cell_type": "markdown",
   "metadata": {},
   "source": [
    "# Test Cloud Struct"
   ]
  },
  {
   "cell_type": "code",
   "execution_count": 2,
   "metadata": {},
   "outputs": [
    {
     "name": "stdout",
     "output_type": "stream",
     "text": [
      "get_d_group(True): 0.00127585 get_d_global(True): 0.00279155\n",
      "get_hpp_group(True): 18.0 get_hpp_global(True): 59.0\n",
      "get_d_group(False): 0.00127585 get_d_global(False): 0.01191055\n",
      "get_hpp_group(False): 18.0 get_hpp_global(True): 428.0\n"
     ]
    }
   ],
   "source": [
    "trainData_by1Nid = fl_util.deserialize(os.path.join('..', 'data', DATA_NAME, 'train'))\n",
    "(trainData_byNid, train_z) = fl_data.groupByEdge(trainData_by1Nid, 't', 'h', numNodes, numEdges)\n",
    "\n",
    "topology = Topology(modelSize, numNodes, numEdges)\n",
    "c = Cloud(topology, trainData_byNid, numEdges)\n",
    "c.digest(train_z)\n",
    "\n",
    "print('get_d_group(True):', c.get_d_group(True), 'get_d_global(True):', c.get_d_global(True))\n",
    "print('get_hpp_group(True):', c.get_hpp_group(True), 'get_hpp_global(True):', c.get_hpp_global(True))\n",
    "print('get_d_group(False):', c.get_d_group(False), 'get_d_global(False):', c.get_d_global(False))\n",
    "print('get_hpp_group(False):', c.get_hpp_group(False), 'get_hpp_global(True):', c.get_hpp_global(False))"
   ]
  },
  {
   "cell_type": "markdown",
   "metadata": {},
   "source": [
    "# Digest Test"
   ]
  },
  {
   "cell_type": "code",
   "execution_count": 3,
   "metadata": {},
   "outputs": [
    {
     "name": "stdout",
     "output_type": "stream",
     "text": [
      "get_d_group(False): 0.00127585 get_d_global(False): 0.01167465\n",
      "get_d_group(False): 0.0014770500000000002 get_d_global(False): 0.01167465\n"
     ]
    }
   ],
   "source": [
    "trainData_by1Nid = fl_util.deserialize(os.path.join('..', 'data', DATA_NAME, 'train'))\n",
    "(trainData_byNid, train_z) = fl_data.groupByEdge(trainData_by1Nid, 't', 'a', numNodes, numEdges)\n",
    "\n",
    "topology = Topology(modelSize, numNodes, numEdges)\n",
    "c = Cloud(topology, trainData_byNid, numEdges)\n",
    "c.digest(train_z)\n",
    "print('get_d_group(False):', c.get_d_group(False), 'get_d_global(False):', c.get_d_global(False))\n",
    "\n",
    "# Node Membership 하나 변경\n",
    "train_z[0] = 9 # Group.digest() 에 k 를 로그 찍으며 0 과 9 번 그룹만 나옴\n",
    "\n",
    "c.digest(train_z)\n",
    "print('get_d_group(False):', c.get_d_group(False), 'get_d_global(False):', c.get_d_global(False))"
   ]
  }
 ],
 "metadata": {
  "kernelspec": {
   "display_name": "Python 3",
   "language": "python",
   "name": "python3"
  },
  "language_info": {
   "codemirror_mode": {
    "name": "ipython",
    "version": 3
   },
   "file_extension": ".py",
   "mimetype": "text/x-python",
   "name": "python",
   "nbconvert_exporter": "python",
   "pygments_lexer": "ipython3",
   "version": "3.5.2"
  }
 },
 "nbformat": 4,
 "nbformat_minor": 4
}
