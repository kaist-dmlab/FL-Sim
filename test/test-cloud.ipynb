{
 "cells": [
  {
   "cell_type": "markdown",
   "metadata": {},
   "source": [
    "# Test k-ary Fat Tree & Shortest Path Hop Distance"
   ]
  },
  {
   "cell_type": "code",
   "execution_count": 1,
   "metadata": {},
   "outputs": [
    {
     "data": {
      "text/plain": [
       "<Figure size 640x480 with 1 Axes>"
      ]
     },
     "metadata": {},
     "output_type": "display_data"
    }
   ],
   "source": [
    "import importlib\n",
    "import matplotlib.pyplot as plt\n",
    "import networkx as nx\n",
    "import numpy as np\n",
    "import os\n",
    "\n",
    "from cloud.cloud import Cloud\n",
    "import fl_const\n",
    "import fl_data\n",
    "import fl_util\n",
    "\n",
    "fl_util.initialize()\n",
    "\n",
    "DATA_NAME = 'mnist-o'\n",
    "NUM_NODES = 100\n",
    "NUM_EDGES = 10\n",
    "\n",
    "topologyPackagePath = 'cloud.fattree'\n",
    "topologyModule = importlib.import_module(topologyPackagePath)\n",
    "Topology = getattr(topologyModule, 'Topology')\n",
    "topology = Topology(NUM_NODES, NUM_EDGES)\n",
    "nx.draw(topology.g)\n",
    "plt.show()"
   ]
  },
  {
   "cell_type": "markdown",
   "metadata": {},
   "source": [
    "# Test Cloud Struct"
   ]
  },
  {
   "cell_type": "code",
   "execution_count": 2,
   "metadata": {},
   "outputs": [
    {
     "name": "stdout",
     "output_type": "stream",
     "text": [
      "get_d_group(True): 8.937506219531251 get_d_global(True): 13.772834198437499\n",
      "get_d_group(False): 9.287860961718751 get_d_global(False): 21.67801944921875\n",
      "get_max_hpp_group(True): 6.0 get_hpp_global(True): 60.0\n",
      "get_max_hpp_group(False): 34.0 get_hpp_global(False): 574.0\n"
     ]
    }
   ],
   "source": [
    "NUM_GROUPS = NUM_EDGES\n",
    "\n",
    "trainData_by1Nid = fl_util.deserialize(os.path.join(fl_const.DATA_DIR_PATH, DATA_NAME, 'train'))\n",
    "(trainData_byNid, z_edge) = fl_data.groupByEdge(trainData_by1Nid, 't', 't', NUM_NODES, NUM_EDGES)\n",
    "\n",
    "c = Cloud(topology, trainData_byNid, NUM_EDGES)\n",
    "nids_byGid = fl_data.to_nids_byGid(z_edge)\n",
    "c.digest(nids_byGid)\n",
    "\n",
    "DATA_SIZE = 1476392 # cnn-mnist\n",
    "print('get_d_group(True):', c.get_d_group(True, dataSize=DATA_SIZE), 'get_d_global(True):', c.get_d_global(True, dataSize=DATA_SIZE))\n",
    "print('get_d_group(False):', c.get_d_group(False, dataSize=DATA_SIZE), 'get_d_global(False):', c.get_d_global(False, dataSize=DATA_SIZE))\n",
    "print('get_max_hpp_group(True):', c.get_max_hpp_group(True), 'get_hpp_global(True):', c.get_hpp_global(True))\n",
    "print('get_max_hpp_group(False):', c.get_max_hpp_group(False), 'get_hpp_global(False):', c.get_hpp_global(False))"
   ]
  },
  {
   "cell_type": "markdown",
   "metadata": {},
   "source": [
    "# Digest Test"
   ]
  },
  {
   "cell_type": "code",
   "execution_count": 3,
   "metadata": {},
   "outputs": [
    {
     "name": "stdout",
     "output_type": "stream",
     "text": [
      "get_d_group(False): 0.064419 get_d_global(False): 0.150355\n",
      "digested group 0\n",
      "digested group 1\n",
      "get_d_group(False): 0.092859 get_d_global(False): 0.152312\n"
     ]
    }
   ],
   "source": [
    "# print('get_d_group(False):', c.get_d_group(False), 'get_d_global(False):', c.get_d_global(False))\n",
    "\n",
    "# # Node Membership 하나 변경\n",
    "# z_edge[0] = z_edge[0]+1\n",
    "# nids_byGid = fl_data.to_nids_byGid(z_edge)\n",
    "# c.digest(nids_byGid, debugging=True)\n",
    "\n",
    "# print('get_d_group(False):', c.get_d_group(False), 'get_d_global(False):', c.get_d_global(False))"
   ]
  },
  {
   "cell_type": "markdown",
   "metadata": {},
   "source": [
    "# Random Grouping Test"
   ]
  },
  {
   "cell_type": "code",
   "execution_count": 4,
   "metadata": {},
   "outputs": [
    {
     "name": "stdout",
     "output_type": "stream",
     "text": [
      "13.772834198437499\n",
      "0 13.772834198437499\n",
      "1 13.772834198437499\n",
      "2 13.772834198437499\n",
      "3 13.772834198437499\n",
      "4 13.772834198437499\n",
      "5 13.772834198437499\n",
      "6 13.772834198437499\n",
      "7 13.772834198437499\n",
      "8 13.772834198437499\n",
      "9 13.772834198437499\n"
     ]
    }
   ],
   "source": [
    "# c = Cloud(topology, trainData_byNid, NUM_EDGES)\n",
    "# nids_byGid = fl_data.to_nids_byGid(z_edge)\n",
    "# c.digest(nids_byGid)\n",
    "# d_global = c.get_d_global(True, dataSize=DATA_SIZE)\n",
    "# print(d_global)\n",
    "\n",
    "# for i in range(10):\n",
    "#     c = Cloud(topology, trainData_byNid, NUM_EDGES)\n",
    "#     z_rand = fl_data.groupRandomly(NUM_NODES, NUM_GROUPS)\n",
    "#     nids_byGid = fl_data.to_nids_byGid(z_rand)\n",
    "#     c.digest(nids_byGid)\n",
    "#     d_global_cur = c.get_d_global(True, dataSize=DATA_SIZE)\n",
    "#     print(i, d_global_cur)\n",
    "#     assert(d_global == d_global_cur)"
   ]
  }
 ],
 "metadata": {
  "kernelspec": {
   "display_name": "Python 3",
   "language": "python",
   "name": "python3"
  },
  "language_info": {
   "codemirror_mode": {
    "name": "ipython",
    "version": 3
   },
   "file_extension": ".py",
   "mimetype": "text/x-python",
   "name": "python",
   "nbconvert_exporter": "python",
   "pygments_lexer": "ipython3",
   "version": "3.5.2"
  }
 },
 "nbformat": 4,
 "nbformat_minor": 4
}
