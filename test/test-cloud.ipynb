{
 "cells": [
  {
   "cell_type": "markdown",
   "metadata": {},
   "source": [
    "# Test k-ary Fat Tree & Shortest Path Hop Distance"
   ]
  },
  {
   "cell_type": "code",
   "execution_count": 1,
   "metadata": {},
   "outputs": [
    {
     "data": {
      "text/plain": [
       "<Figure size 640x480 with 1 Axes>"
      ]
     },
     "metadata": {},
     "output_type": "display_data"
    }
   ],
   "source": [
    "import importlib\n",
    "import matplotlib.pyplot as plt\n",
    "import networkx as nx\n",
    "import numpy as np\n",
    "import os\n",
    "\n",
    "from cloud.cloud import Cloud\n",
    "import fl_const\n",
    "import fl_data\n",
    "import fl_util\n",
    "\n",
    "fl_util.initialize()\n",
    "\n",
    "DATA_NAME = 'mnist-o'\n",
    "NUM_NODES = 100\n",
    "NUM_EDGES = 10\n",
    "\n",
    "topologyPackagePath = 'cloud.fattree'\n",
    "topologyModule = importlib.import_module(topologyPackagePath)\n",
    "Topology = getattr(topologyModule, 'Topology')\n",
    "topology = Topology(NUM_NODES, NUM_EDGES)\n",
    "nx.draw(topology.g)\n",
    "plt.show()"
   ]
  },
  {
   "cell_type": "markdown",
   "metadata": {},
   "source": [
    "# Test Cloud Struct"
   ]
  },
  {
   "cell_type": "code",
   "execution_count": 2,
   "metadata": {},
   "outputs": [
    {
     "name": "stdout",
     "output_type": "stream",
     "text": [
      "get_d_group(True): 4.9026670429687496 get_d_global(True): 8.424404140624999\n",
      "get_d_group(False): 5.01285507421875 get_d_global(False): 11.700085761718748\n",
      "get_hpp_group(True): 18.0 get_hpp_global(True): 288.0\n",
      "get_hpp_group(False): 34.0 get_hpp_global(True): 574.0\n"
     ]
    }
   ],
   "source": [
    "NUM_GROUPS = NUM_EDGES\n",
    "\n",
    "trainData_by1Nid = fl_util.deserialize(os.path.join(fl_const.DATA_DIR_PATH, DATA_NAME, 'train'))\n",
    "(trainData_byNid, z_edge) = fl_data.groupByEdge(trainData_by1Nid, 't', 't', NUM_NODES, NUM_EDGES)\n",
    "\n",
    "c = Cloud(topology, trainData_byNid, NUM_EDGES)\n",
    "nids_byGid = fl_data.to_nids_byGid(z_edge)\n",
    "c.digest(nids_byGid)\n",
    "\n",
    "DATA_SIZE = 796840 # 2nn\n",
    "print('get_d_group(True):', c.get_d_group(True, dataSize=DATA_SIZE), 'get_d_global(True):', c.get_d_global(True, dataSize=DATA_SIZE))\n",
    "print('get_d_group(False):', c.get_d_group(False, dataSize=DATA_SIZE), 'get_d_global(False):', c.get_d_global(False, dataSize=DATA_SIZE))\n",
    "print('get_hpp_group(True):', c.get_hpp_group(True), 'get_hpp_global(True):', c.get_hpp_global(True))\n",
    "print('get_hpp_group(False):', c.get_hpp_group(False), 'get_hpp_global(True):', c.get_hpp_global(False))"
   ]
  },
  {
   "cell_type": "markdown",
   "metadata": {},
   "source": [
    "# Digest Test"
   ]
  },
  {
   "cell_type": "code",
   "execution_count": 3,
   "metadata": {},
   "outputs": [],
   "source": [
    "# print('get_d_group(False):', c.get_d_group(False), 'get_d_global(False):', c.get_d_global(False))\n",
    "\n",
    "# # Node Membership 하나 변경\n",
    "# z_edge[0] = z_edge[0]+1 # Group.digest() 에 k 를 로그 찍으면 변경된 그룹만 나옴\n",
    "\n",
    "# c.digest(z_edge)\n",
    "# print('get_d_group(False):', c.get_d_group(False), 'get_d_global(False):', c.get_d_global(False))"
   ]
  }
 ],
 "metadata": {
  "kernelspec": {
   "display_name": "Python 3",
   "language": "python",
   "name": "python3"
  },
  "language_info": {
   "codemirror_mode": {
    "name": "ipython",
    "version": 3
   },
   "file_extension": ".py",
   "mimetype": "text/x-python",
   "name": "python",
   "nbconvert_exporter": "python",
   "pygments_lexer": "ipython3",
   "version": "3.5.2"
  }
 },
 "nbformat": 4,
 "nbformat_minor": 4
}
