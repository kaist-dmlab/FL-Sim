{
 "cells": [
  {
   "cell_type": "markdown",
   "metadata": {},
   "source": [
    "# Test Preprocess & Repeat"
   ]
  },
  {
   "cell_type": "code",
   "execution_count": 1,
   "metadata": {},
   "outputs": [
    {
     "name": "stdout",
     "output_type": "stream",
     "text": [
      "2 (42000, 28, 28)\n",
      "2 (42000,) [0 1 2 3 4 5 6 7 8 9]\n",
      "[4206, 4700, 4182, 4271, 4068, 3791, 4160, 4360, 4127, 4135]\n",
      "1000 1000\n"
     ]
    }
   ],
   "source": [
    "import numpy as np\n",
    "import os\n",
    "\n",
    "import fl_data\n",
    "import fl_util\n",
    "\n",
    "MODEL_NAME = 'sr'\n",
    "DATA_NAME = 'mnist-o' # mnist-o / mnist-f / cifar10\n",
    "\n",
    "trainData_by1Nid = fl_util.deserialize(os.path.join('..', 'data', DATA_NAME, 'train'))\n",
    "\n",
    "print(len(trainData_by1Nid[0]), trainData_by1Nid[0]['x'].shape)\n",
    "print(len(trainData_by1Nid[0]), trainData_by1Nid[0]['y'].shape, np.unique(trainData_by1Nid[0]['y']))\n",
    "numTotalClasses = len(np.unique(trainData_by1Nid[0]['y']))\n",
    "\n",
    "print([ len(x['x']) for x in fl_data.groupByClass(trainData_by1Nid) ])\n",
    "\n",
    "trainData_by1Nid_sampled = fl_data.sample(trainData_by1Nid, 1000)\n",
    "print(len(trainData_by1Nid_sampled[0]['x']), len(trainData_by1Nid_sampled[0]['y']))"
   ]
  },
  {
   "cell_type": "markdown",
   "metadata": {},
   "source": [
    "# Test Node Non-IID"
   ]
  },
  {
   "cell_type": "code",
   "execution_count": 2,
   "metadata": {},
   "outputs": [
    {
     "ename": "TypeError",
     "evalue": "unorderable types: str() <= int()",
     "output_type": "error",
     "traceback": [
      "\u001b[0;31m---------------------------------------------------------------------------\u001b[0m",
      "\u001b[0;31mTypeError\u001b[0m                                 Traceback (most recent call last)",
      "\u001b[0;32m<ipython-input-2-31e4c7ae72ae>\u001b[0m in \u001b[0;36m<module>\u001b[0;34m\u001b[0m\n\u001b[1;32m     17\u001b[0m     \u001b[0;32massert\u001b[0m\u001b[0;34m(\u001b[0m \u001b[0myType\u001b[0m \u001b[0;34m==\u001b[0m \u001b[0mnp\u001b[0m\u001b[0;34m.\u001b[0m\u001b[0mint32\u001b[0m \u001b[0;34m)\u001b[0m\u001b[0;34m\u001b[0m\u001b[0m\n\u001b[1;32m     18\u001b[0m \u001b[0;34m\u001b[0m\u001b[0m\n\u001b[0;32m---> 19\u001b[0;31m \u001b[0mtrainData_byNid\u001b[0m \u001b[0;34m=\u001b[0m \u001b[0mfl_data\u001b[0m\u001b[0;34m.\u001b[0m\u001b[0mgroupByNode\u001b[0m\u001b[0;34m(\u001b[0m\u001b[0mtrainData_by1Nid\u001b[0m\u001b[0;34m,\u001b[0m \u001b[0;34m'o'\u001b[0m\u001b[0;34m,\u001b[0m \u001b[0mNUM_NODES\u001b[0m\u001b[0;34m)\u001b[0m\u001b[0;34m\u001b[0m\u001b[0m\n\u001b[0m\u001b[1;32m     20\u001b[0m \u001b[0massert_groupByNode\u001b[0m\u001b[0;34m(\u001b[0m\u001b[0mtrainData_byNid\u001b[0m\u001b[0;34m,\u001b[0m \u001b[0mNUM_NODES\u001b[0m\u001b[0;34m,\u001b[0m \u001b[0mNUM_TOTAL_EXAMPLES\u001b[0m\u001b[0;34m,\u001b[0m \u001b[0;36m1\u001b[0m\u001b[0;34m)\u001b[0m\u001b[0;34m\u001b[0m\u001b[0m\n\u001b[1;32m     21\u001b[0m \u001b[0;34m\u001b[0m\u001b[0m\n",
      "\u001b[0;32m~/FL-Sim/fl_data.py\u001b[0m in \u001b[0;36mgroupByNode\u001b[0;34m(data_by1Nid, nodeType, numNodes)\u001b[0m\n\u001b[1;32m    169\u001b[0m \u001b[0;32mdef\u001b[0m \u001b[0mgroupByNode\u001b[0m\u001b[0;34m(\u001b[0m\u001b[0mdata_by1Nid\u001b[0m\u001b[0;34m,\u001b[0m \u001b[0mnodeType\u001b[0m\u001b[0;34m,\u001b[0m \u001b[0mnumNodes\u001b[0m\u001b[0;34m)\u001b[0m\u001b[0;34m:\u001b[0m\u001b[0;34m\u001b[0m\u001b[0m\n\u001b[1;32m    170\u001b[0m     \u001b[0mNUM_CLASS\u001b[0m \u001b[0;34m=\u001b[0m \u001b[0mlen\u001b[0m\u001b[0;34m(\u001b[0m\u001b[0mnp\u001b[0m\u001b[0;34m.\u001b[0m\u001b[0munique\u001b[0m\u001b[0;34m(\u001b[0m\u001b[0mdata_by1Nid\u001b[0m\u001b[0;34m[\u001b[0m\u001b[0;36m0\u001b[0m\u001b[0;34m]\u001b[0m\u001b[0;34m[\u001b[0m\u001b[0;34m'y'\u001b[0m\u001b[0;34m]\u001b[0m\u001b[0;34m)\u001b[0m\u001b[0;34m)\u001b[0m\u001b[0;34m\u001b[0m\u001b[0m\n\u001b[0;32m--> 171\u001b[0;31m     \u001b[0mdata_byNid\u001b[0m\u001b[0;34m,\u001b[0m \u001b[0mz\u001b[0m \u001b[0;34m=\u001b[0m \u001b[0mgroupByEdge\u001b[0m\u001b[0;34m(\u001b[0m\u001b[0mdata_by1Nid\u001b[0m\u001b[0;34m,\u001b[0m \u001b[0mnodeType\u001b[0m\u001b[0;34m,\u001b[0m \u001b[0mNUM_CLASS\u001b[0m\u001b[0;34m,\u001b[0m \u001b[0mnumNodes\u001b[0m\u001b[0;34m,\u001b[0m \u001b[0;36m1\u001b[0m\u001b[0;34m)\u001b[0m\u001b[0;34m\u001b[0m\u001b[0m\n\u001b[0m\u001b[1;32m    172\u001b[0m     \u001b[0;32mreturn\u001b[0m \u001b[0mdata_byNid\u001b[0m\u001b[0;34m\u001b[0m\u001b[0m\n\u001b[1;32m    173\u001b[0m \u001b[0;34m\u001b[0m\u001b[0m\n",
      "\u001b[0;32m~/FL-Sim/fl_data.py\u001b[0m in \u001b[0;36mgroupByEdge\u001b[0;34m(data_by1Nid, nodeType, edgeType, numNodes, numEdges)\u001b[0m\n\u001b[1;32m    178\u001b[0m     \u001b[0mNUM_CLASS_NODE\u001b[0m \u001b[0;34m=\u001b[0m \u001b[0mnodeType\u001b[0m \u001b[0;31m# average # of class in each node\u001b[0m\u001b[0;34m\u001b[0m\u001b[0m\n\u001b[1;32m    179\u001b[0m     \u001b[0mNUM_CLASS_EDGE\u001b[0m \u001b[0;34m=\u001b[0m \u001b[0medgeType\u001b[0m \u001b[0;31m# average # of class in each edge\u001b[0m\u001b[0;34m\u001b[0m\u001b[0m\n\u001b[0;32m--> 180\u001b[0;31m     \u001b[0;32massert\u001b[0m\u001b[0;34m(\u001b[0m\u001b[0mNUM_CLASS_NODE\u001b[0m \u001b[0;34m<=\u001b[0m \u001b[0mNUM_CLASS_EDGE\u001b[0m\u001b[0;34m)\u001b[0m\u001b[0;34m\u001b[0m\u001b[0m\n\u001b[0m\u001b[1;32m    181\u001b[0m \u001b[0;34m\u001b[0m\u001b[0m\n\u001b[1;32m    182\u001b[0m     \u001b[0mNUM_NODES\u001b[0m \u001b[0;34m=\u001b[0m \u001b[0mnumNodes\u001b[0m\u001b[0;34m\u001b[0m\u001b[0m\n",
      "\u001b[0;31mTypeError\u001b[0m: unorderable types: str() <= int()"
     ]
    }
   ],
   "source": [
    "NUM_NODES = 150\n",
    "NUM_TOTAL_EXAMPLES = len(trainData_by1Nid[0]['y'])\n",
    "\n",
    "def assert_groupByNode(dataByNid, numNodes_, numTotalExamples_, numClassesPerNode_):\n",
    "    numNodes = len(dataByNid)\n",
    "    numTotalExamples = sum( len(n['y']) for n in dataByNid )\n",
    "    numClassesPerNode = np.mean([ len(np.unique(n['y'])) for n in dataByNid ])\n",
    "    xType = type(dataByNid[0]['x'][0])\n",
    "    xPixelType = type(dataByNid[0]['x'][0].flatten()[0])\n",
    "    yType = type(dataByNid[0]['y'][0].flatten()[0])\n",
    "    print(numNodes, numTotalExamples, numClassesPerNode, xType, xPixelType, yType)\n",
    "    assert( numNodes == numNodes_ )\n",
    "    assert( numTotalExamples == numTotalExamples_ )\n",
    "    assert( numClassesPerNode == numClassesPerNode_ )\n",
    "    assert( xType == np.ndarray )\n",
    "    assert( xPixelType == np.float32 )\n",
    "    assert( yType == np.int32 )\n",
    "\n",
    "trainData_byNid = fl_data.groupByNode(trainData_by1Nid, 'o', NUM_NODES)\n",
    "assert_groupByNode(trainData_byNid, NUM_NODES, NUM_TOTAL_EXAMPLES, 1)\n",
    "\n",
    "trainData_byNid = fl_data.groupByNode(trainData_by1Nid, 'f', NUM_NODES)\n",
    "assert_groupByNode(trainData_byNid, NUM_NODES, NUM_TOTAL_EXAMPLES, numTotalClasses/5)\n",
    "\n",
    "trainData_byNid = fl_data.groupByNode(trainData_by1Nid, 'h', NUM_NODES)\n",
    "assert_groupByNode(trainData_byNid, NUM_NODES, NUM_TOTAL_EXAMPLES, numTotalClasses/2)\n",
    "\n",
    "trainData_byNid = fl_data.groupByNode(trainData_by1Nid, 'a', NUM_NODES)\n",
    "assert_groupByNode(trainData_byNid, NUM_NODES, NUM_TOTAL_EXAMPLES, numTotalClasses)"
   ]
  },
  {
   "cell_type": "markdown",
   "metadata": {},
   "source": [
    "# Test Node & Edge Non-IID"
   ]
  },
  {
   "cell_type": "code",
   "execution_count": null,
   "metadata": {},
   "outputs": [],
   "source": [
    "import fl_util\n",
    "\n",
    "NUM_NODES = 400\n",
    "NUM_EDGES = 20\n",
    "NUM_NODES_PER_EDGE = NUM_NODES / NUM_EDGES\n",
    "\n",
    "def assert_groupByEdge(dataByNid, z, numNodes_, numEdges_, numNodesPerEdge_, numClassesPerNode_, numClassesPerEdge_):\n",
    "    numNodes = len(dataByNid)\n",
    "    numEdges = len(np.unique(z))\n",
    "    nids_byGid = fl_util.to_nids_byGid(z)\n",
    "    numNodesPerEdge = np.mean([ len(nids) for nids in nids_byGid ])\n",
    "    numClassesPerNode = np.mean([ np.mean([ len(np.unique(dataByNid[nid]['y'])) for nid in nids ]) for nids in nids_byGid ])\n",
    "    numClassesPerEdge = np.mean([ len(np.unique(np.concatenate([dataByNid[nid]['y'] for nid in nids]))) for nids in nids_byGid ])\n",
    "    xType = type(dataByNid[0]['x'][0])\n",
    "    xPixelType = type(dataByNid[0]['x'][0].flatten()[0])\n",
    "    yType = type(dataByNid[0]['y'][0].flatten()[0])\n",
    "    print(numNodes, numEdges, numNodesPerEdge, numClassesPerNode, numClassesPerEdge, xType, xPixelType, yType)\n",
    "    assert( numNodes == numNodes_ )\n",
    "    assert( numEdges == numEdges_ )\n",
    "    assert( numNodesPerEdge == numNodesPerEdge_ )\n",
    "    assert( numClassesPerNode == numClassesPerNode_ )\n",
    "    assert( numClassesPerEdge == numClassesPerEdge_ )\n",
    "    assert( xType == np.ndarray )\n",
    "    assert( xPixelType == np.float32 )\n",
    "    assert( yType == np.int32 )\n",
    "\n",
    "(trainData_byNid, train_z) = fl_data.groupByEdge(trainData_by1Nid, 'o', 'o', NUM_NODES, NUM_EDGES)\n",
    "assert_groupByEdge(trainData_byNid, train_z, NUM_NODES, NUM_EDGES, NUM_NODES_PER_EDGE, 1, 1)\n",
    "\n",
    "(trainData_byNid, train_z) = fl_data.groupByEdge(trainData_by1Nid, 'o', 'f', NUM_NODES, NUM_EDGES)\n",
    "assert_groupByEdge(trainData_byNid, train_z, NUM_NODES, NUM_EDGES, NUM_NODES_PER_EDGE, 1, numTotalClasses/5)\n",
    "\n",
    "(trainData_byNid, train_z) = fl_data.groupByEdge(trainData_by1Nid, 'o', 'h', NUM_NODES, NUM_EDGES)\n",
    "assert_groupByEdge(trainData_byNid, train_z, NUM_NODES, NUM_EDGES, NUM_NODES_PER_EDGE, 1, numTotalClasses/2)\n",
    "\n",
    "(trainData_byNid, train_z) = fl_data.groupByEdge(trainData_by1Nid, 'o', 'a', NUM_NODES, NUM_EDGES)\n",
    "assert_groupByEdge(trainData_byNid, train_z, NUM_NODES, NUM_EDGES, NUM_NODES_PER_EDGE, 1, numTotalClasses)\n",
    "\n",
    "(trainData_byNid, train_z) = fl_data.groupByEdge(trainData_by1Nid, 'f', 'f', NUM_NODES, NUM_EDGES)\n",
    "assert_groupByEdge(trainData_byNid, train_z, NUM_NODES, NUM_EDGES, NUM_NODES_PER_EDGE, numTotalClasses/5, numTotalClasses/5)\n",
    "\n",
    "(trainData_byNid, train_z) = fl_data.groupByEdge(trainData_by1Nid, 'f', 'h', NUM_NODES, NUM_EDGES)\n",
    "assert_groupByEdge(trainData_byNid, train_z, NUM_NODES, NUM_EDGES, NUM_NODES_PER_EDGE, numTotalClasses/5, 6)\n",
    "\n",
    "(trainData_byNid, train_z) = fl_data.groupByEdge(trainData_by1Nid, 'f', 'a', NUM_NODES, NUM_EDGES)\n",
    "assert_groupByEdge(trainData_byNid, train_z, NUM_NODES, NUM_EDGES, NUM_NODES_PER_EDGE, numTotalClasses/5, numTotalClasses)\n",
    "\n",
    "(trainData_byNid, train_z) = fl_data.groupByEdge(trainData_by1Nid, 'h', 'h', NUM_NODES, NUM_EDGES)\n",
    "assert_groupByEdge(trainData_byNid, train_z, NUM_NODES, NUM_EDGES, NUM_NODES_PER_EDGE, numTotalClasses/2, numTotalClasses/2)\n",
    "\n",
    "(trainData_byNid, train_z) = fl_data.groupByEdge(trainData_by1Nid, 'h', 'a', NUM_NODES, NUM_EDGES)\n",
    "assert_groupByEdge(trainData_byNid, train_z, NUM_NODES, NUM_EDGES, NUM_NODES_PER_EDGE, numTotalClasses/2, numTotalClasses)\n",
    "\n",
    "(trainData_byNid, train_z) = fl_data.groupByEdge(trainData_by1Nid, 'a', 'a', NUM_NODES, NUM_EDGES)\n",
    "assert_groupByEdge(trainData_byNid, train_z, NUM_NODES, NUM_EDGES, NUM_NODES_PER_EDGE, numTotalClasses, numTotalClasses)"
   ]
  },
  {
   "cell_type": "code",
   "execution_count": null,
   "metadata": {},
   "outputs": [],
   "source": [
    "NUM_NODES = 600\n",
    "NUM_EDGES = 20\n",
    "NUM_NODES_PER_EDGE = NUM_NODES / NUM_EDGES\n",
    "\n",
    "(trainData_byNid, train_z) = fl_data.groupByEdge(trainData_by1Nid,'o', 'o', NUM_NODES, NUM_EDGES)\n",
    "assert_groupByEdge(trainData_byNid, train_z, NUM_NODES, NUM_EDGES, NUM_NODES_PER_EDGE, 1, 1)\n",
    "\n",
    "(trainData_byNid, train_z) = fl_data.groupByEdge(trainData_by1Nid,'o', 'f', NUM_NODES, NUM_EDGES)\n",
    "assert_groupByEdge(trainData_byNid, train_z, NUM_NODES, NUM_EDGES, NUM_NODES_PER_EDGE, 1, numTotalClasses/5)\n",
    "\n",
    "(trainData_byNid, train_z) = fl_data.groupByEdge(trainData_by1Nid,'o', 'h', NUM_NODES, NUM_EDGES)\n",
    "assert_groupByEdge(trainData_byNid, train_z, NUM_NODES, NUM_EDGES, NUM_NODES_PER_EDGE, 1, numTotalClasses/2)\n",
    "\n",
    "(trainData_byNid, train_z) = fl_data.groupByEdge(trainData_by1Nid,'o', 'a', NUM_NODES, NUM_EDGES)\n",
    "assert_groupByEdge(trainData_byNid, train_z, NUM_NODES, NUM_EDGES, NUM_NODES_PER_EDGE, 1, numTotalClasses)\n",
    "\n",
    "(trainData_byNid, train_z) = fl_data.groupByEdge(trainData_by1Nid,'f', 'f', NUM_NODES, NUM_EDGES)\n",
    "assert_groupByEdge(trainData_byNid, train_z, NUM_NODES, NUM_EDGES, NUM_NODES_PER_EDGE, numTotalClasses/5, numTotalClasses/5)\n",
    "\n",
    "(trainData_byNid, train_z) = fl_data.groupByEdge(trainData_by1Nid,'f', 'h', NUM_NODES, NUM_EDGES)\n",
    "assert_groupByEdge(trainData_byNid, train_z, NUM_NODES, NUM_EDGES, NUM_NODES_PER_EDGE, numTotalClasses/5, 6)\n",
    "\n",
    "(trainData_byNid, train_z) = fl_data.groupByEdge(trainData_by1Nid,'f', 'a', NUM_NODES, NUM_EDGES)\n",
    "assert_groupByEdge(trainData_byNid, train_z, NUM_NODES, NUM_EDGES, NUM_NODES_PER_EDGE, numTotalClasses/5, numTotalClasses)\n",
    "\n",
    "(trainData_byNid, train_z) = fl_data.groupByEdge(trainData_by1Nid,'h', 'h', NUM_NODES, NUM_EDGES)\n",
    "assert_groupByEdge(trainData_byNid, train_z, NUM_NODES, NUM_EDGES, NUM_NODES_PER_EDGE, numTotalClasses/2, numTotalClasses/2)\n",
    "\n",
    "(trainData_byNid, train_z) = fl_data.groupByEdge(trainData_by1Nid,'h', 'a', NUM_NODES, NUM_EDGES)\n",
    "assert_groupByEdge(trainData_byNid, train_z, NUM_NODES, NUM_EDGES, NUM_NODES_PER_EDGE, numTotalClasses/2, numTotalClasses)\n",
    "\n",
    "(trainData_byNid, train_z) = fl_data.groupByEdge(trainData_by1Nid,'a', 'a', NUM_NODES, NUM_EDGES)\n",
    "assert_groupByEdge(trainData_byNid, train_z, NUM_NODES, NUM_EDGES, NUM_NODES_PER_EDGE, numTotalClasses, numTotalClasses)"
   ]
  }
 ],
 "metadata": {
  "kernelspec": {
   "display_name": "Python 3",
   "language": "python",
   "name": "python3"
  },
  "language_info": {
   "codemirror_mode": {
    "name": "ipython",
    "version": 3
   },
   "file_extension": ".py",
   "mimetype": "text/x-python",
   "name": "python",
   "nbconvert_exporter": "python",
   "pygments_lexer": "ipython3",
   "version": "3.5.2"
  }
 },
 "nbformat": 4,
 "nbformat_minor": 4
}
