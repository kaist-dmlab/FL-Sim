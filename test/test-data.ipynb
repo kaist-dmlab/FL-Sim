{
 "cells": [
  {
   "cell_type": "markdown",
   "metadata": {},
   "source": [
    "# Test Preprocess & Repeat"
   ]
  },
  {
   "cell_type": "code",
   "execution_count": 1,
   "metadata": {},
   "outputs": [
    {
     "name": "stdout",
     "output_type": "stream",
     "text": [
      "2 (42000, 28, 28)\n",
      "2 (42000,) [0 1 2 3 4 5 6 7 8 9]\n",
      "[4206, 4700, 4182, 4271, 4068, 3791, 4160, 4360, 4127, 4135]\n",
      "1000 1000\n"
     ]
    }
   ],
   "source": [
    "import numpy as np\n",
    "import os\n",
    "\n",
    "import fl_data\n",
    "import fl_util\n",
    "\n",
    "MODEL_NAME = 'sr'\n",
    "DATA_NAME = 'mnist-o' # mnist-o / mnist-f / cifar10\n",
    "\n",
    "trainData_by1Nid = fl_util.deserialize(os.path.join('..', 'data', DATA_NAME, 'train'))\n",
    "\n",
    "print(len(trainData_by1Nid[0]), trainData_by1Nid[0]['x'].shape)\n",
    "print(len(trainData_by1Nid[0]), trainData_by1Nid[0]['y'].shape, np.unique(trainData_by1Nid[0]['y']))\n",
    "numTotalClasses = len(np.unique(trainData_by1Nid[0]['y']))\n",
    "\n",
    "print([ len(x['x']) for x in fl_data.groupByClass(trainData_by1Nid) ])\n",
    "\n",
    "trainData_by1Nid_sampled = fl_data.sample(trainData_by1Nid, 1000)\n",
    "print(len(trainData_by1Nid_sampled[0]['x']), len(trainData_by1Nid_sampled[0]['y']))"
   ]
  },
  {
   "cell_type": "markdown",
   "metadata": {},
   "source": [
    "# Test Node Non-IID"
   ]
  },
  {
   "cell_type": "code",
   "execution_count": 2,
   "metadata": {},
   "outputs": [
    {
     "name": "stdout",
     "output_type": "stream",
     "text": [
      "150 42000 4.433333333333334 <class 'numpy.ndarray'> <class 'numpy.float32'> <class 'numpy.int32'>\n",
      "150 42000 4.906666666666666 <class 'numpy.ndarray'> <class 'numpy.float32'> <class 'numpy.int32'>\n",
      "150 42000 5.773333333333333 <class 'numpy.ndarray'> <class 'numpy.float32'> <class 'numpy.int32'>\n",
      "150 42000 6.32 <class 'numpy.ndarray'> <class 'numpy.float32'> <class 'numpy.int32'>\n"
     ]
    }
   ],
   "source": [
    "NUM_NODES = 150\n",
    "NUM_TOTAL_EXAMPLES = len(trainData_by1Nid[0]['y'])\n",
    "\n",
    "def assert_groupByNode(dataByNid, numNodes_, numTotalExamples_, numClassesPerNode_):\n",
    "    numNodes = len(dataByNid)\n",
    "    numTotalExamples = sum( len(n['x']) for n in dataByNid )\n",
    "    numClassesPerNode = np.mean([ len(np.unique(n['y'])) for n in dataByNid ])\n",
    "    xType = type(dataByNid[0]['x'][0])\n",
    "    xPixelType = type(dataByNid[0]['x'][0].flatten()[0])\n",
    "    yType = type(dataByNid[0]['y'][0].flatten()[0])\n",
    "    print(numNodes, numTotalExamples, numClassesPerNode, xType, xPixelType, yType)\n",
    "    assert( np.all([ len(n['x']) > 1 for n in dataByNid ]) )\n",
    "    assert( numNodes == numNodes_ )\n",
    "    assert( numTotalExamples == numTotalExamples_ )\n",
    "#     assert( numClassesPerNode == numClassesPerNode_ ) # numClassesPerNode is stochastic\n",
    "    assert( xType == np.ndarray )\n",
    "    assert( xPixelType == np.float32 )\n",
    "    assert( yType == np.int32 )\n",
    "\n",
    "trainData_byNid = fl_data.groupByNode(trainData_by1Nid, 2, NUM_NODES)\n",
    "assert_groupByNode(trainData_byNid, NUM_NODES, NUM_TOTAL_EXAMPLES, 1)\n",
    "\n",
    "trainData_byNid = fl_data.groupByNode(trainData_by1Nid, 4, NUM_NODES)\n",
    "assert_groupByNode(trainData_byNid, NUM_NODES, NUM_TOTAL_EXAMPLES, numTotalClasses/5)\n",
    "\n",
    "trainData_byNid = fl_data.groupByNode(trainData_by1Nid, 6, NUM_NODES)\n",
    "assert_groupByNode(trainData_byNid, NUM_NODES, NUM_TOTAL_EXAMPLES, numTotalClasses/2)\n",
    "\n",
    "trainData_byNid = fl_data.groupByNode(trainData_by1Nid, 8, NUM_NODES)\n",
    "assert_groupByNode(trainData_byNid, NUM_NODES, NUM_TOTAL_EXAMPLES, numTotalClasses)"
   ]
  },
  {
   "cell_type": "markdown",
   "metadata": {},
   "source": [
    "# Test Node & Edge Non-IID"
   ]
  },
  {
   "cell_type": "code",
   "execution_count": 3,
   "metadata": {},
   "outputs": [
    {
     "name": "stdout",
     "output_type": "stream",
     "text": [
      "100 10 10.0 4.540000000000001 10.0 <class 'numpy.ndarray'> <class 'numpy.float32'> <class 'numpy.int32'>\n",
      "100 10 10.0 2.67 4.0 <class 'numpy.ndarray'> <class 'numpy.float32'> <class 'numpy.int32'>\n",
      "100 10 10.0 2.7 4.0 <class 'numpy.ndarray'> <class 'numpy.float32'> <class 'numpy.int32'>\n",
      "100 10 10.0 4.0 4.0 <class 'numpy.ndarray'> <class 'numpy.float32'> <class 'numpy.int32'>\n",
      "100 10 10.0 3.4800000000000004 6.0 <class 'numpy.ndarray'> <class 'numpy.float32'> <class 'numpy.int32'>\n",
      "100 10 10.0 4.07 6.0 <class 'numpy.ndarray'> <class 'numpy.float32'> <class 'numpy.int32'>\n",
      "100 10 10.0 6.0 6.0 <class 'numpy.ndarray'> <class 'numpy.float32'> <class 'numpy.int32'>\n",
      "100 10 10.0 3.9 8.0 <class 'numpy.ndarray'> <class 'numpy.float32'> <class 'numpy.int32'>\n"
     ]
    },
    {
     "ename": "KeyboardInterrupt",
     "evalue": "",
     "output_type": "error",
     "traceback": [
      "\u001b[0;31m---------------------------------------------------------------------------\u001b[0m",
      "\u001b[0;31mKeyboardInterrupt\u001b[0m                         Traceback (most recent call last)",
      "\u001b[0;32m<ipython-input-3-1be4bf06e664>\u001b[0m in \u001b[0;36m<module>\u001b[0;34m\u001b[0m\n\u001b[1;32m     50\u001b[0m \u001b[0massert_groupByEdge\u001b[0m\u001b[0;34m(\u001b[0m\u001b[0mtrainData_byNid\u001b[0m\u001b[0;34m,\u001b[0m \u001b[0mtrain_z\u001b[0m\u001b[0;34m,\u001b[0m \u001b[0mNUM_NODES\u001b[0m\u001b[0;34m,\u001b[0m \u001b[0mNUM_EDGES\u001b[0m\u001b[0;34m,\u001b[0m \u001b[0mNUM_NODES_PER_EDGE\u001b[0m\u001b[0;34m,\u001b[0m \u001b[0mnumTotalClasses\u001b[0m\u001b[0;34m/\u001b[0m\u001b[0;36m2\u001b[0m\u001b[0;34m,\u001b[0m \u001b[0mnumTotalClasses\u001b[0m\u001b[0;34m/\u001b[0m\u001b[0;36m2\u001b[0m\u001b[0;34m)\u001b[0m\u001b[0;34m\u001b[0m\u001b[0m\n\u001b[1;32m     51\u001b[0m \u001b[0;34m\u001b[0m\u001b[0m\n\u001b[0;32m---> 52\u001b[0;31m \u001b[0;34m(\u001b[0m\u001b[0mtrainData_byNid\u001b[0m\u001b[0;34m,\u001b[0m \u001b[0mtrain_z\u001b[0m\u001b[0;34m)\u001b[0m \u001b[0;34m=\u001b[0m \u001b[0mfl_data\u001b[0m\u001b[0;34m.\u001b[0m\u001b[0mgroupByEdge\u001b[0m\u001b[0;34m(\u001b[0m\u001b[0mtrainData_by1Nid\u001b[0m\u001b[0;34m,\u001b[0m \u001b[0;36m4\u001b[0m\u001b[0;34m,\u001b[0m \u001b[0;36m8\u001b[0m\u001b[0;34m,\u001b[0m \u001b[0mNUM_NODES\u001b[0m\u001b[0;34m,\u001b[0m \u001b[0mNUM_EDGES\u001b[0m\u001b[0;34m)\u001b[0m\u001b[0;34m\u001b[0m\u001b[0m\n\u001b[0m\u001b[1;32m     53\u001b[0m \u001b[0massert_groupByEdge\u001b[0m\u001b[0;34m(\u001b[0m\u001b[0mtrainData_byNid\u001b[0m\u001b[0;34m,\u001b[0m \u001b[0mtrain_z\u001b[0m\u001b[0;34m,\u001b[0m \u001b[0mNUM_NODES\u001b[0m\u001b[0;34m,\u001b[0m \u001b[0mNUM_EDGES\u001b[0m\u001b[0;34m,\u001b[0m \u001b[0mNUM_NODES_PER_EDGE\u001b[0m\u001b[0;34m,\u001b[0m \u001b[0mnumTotalClasses\u001b[0m\u001b[0;34m/\u001b[0m\u001b[0;36m2\u001b[0m\u001b[0;34m,\u001b[0m \u001b[0mnumTotalClasses\u001b[0m\u001b[0;34m)\u001b[0m\u001b[0;34m\u001b[0m\u001b[0m\n\u001b[1;32m     54\u001b[0m \u001b[0;34m\u001b[0m\u001b[0m\n",
      "\u001b[0;32m~/FL-Sim/fl_data.py\u001b[0m in \u001b[0;36mgroupByEdge\u001b[0;34m(data_by1Nid, nodeType, edgeType, numNodes, numEdges)\u001b[0m\n\u001b[1;32m    301\u001b[0m                         \u001b[0minitial_counter\u001b[0m \u001b[0;34m+=\u001b[0m \u001b[0;36m1\u001b[0m\u001b[0;34m\u001b[0m\u001b[0m\n\u001b[1;32m    302\u001b[0m                 \u001b[0;32melse\u001b[0m\u001b[0;34m:\u001b[0m \u001b[0;31m# add next datapoint from other class to x,y dictionary for each node\u001b[0m\u001b[0;34m\u001b[0m\u001b[0m\n\u001b[0;32m--> 303\u001b[0;31m                     \u001b[0mnum_sampled\u001b[0m \u001b[0;34m=\u001b[0m \u001b[0msample_truncated_normal\u001b[0m\u001b[0;34m(\u001b[0m\u001b[0mmean\u001b[0m\u001b[0;34m=\u001b[0m\u001b[0mNUM_DATA_PER_SAMPLED_CLASS\u001b[0m\u001b[0;34m[\u001b[0m\u001b[0mi\u001b[0m\u001b[0;34m]\u001b[0m\u001b[0;34m,\u001b[0m \u001b[0msd\u001b[0m\u001b[0;34m=\u001b[0m\u001b[0;36m5\u001b[0m\u001b[0;34m,\u001b[0m \u001b[0mlow\u001b[0m\u001b[0;34m=\u001b[0m\u001b[0;36m1\u001b[0m\u001b[0;34m,\u001b[0m \u001b[0mupp\u001b[0m\u001b[0;34m=\u001b[0m\u001b[0;36m2\u001b[0m\u001b[0;34m*\u001b[0m\u001b[0mNUM_DATA_PER_SAMPLED_CLASS\u001b[0m\u001b[0;34m[\u001b[0m\u001b[0mi\u001b[0m\u001b[0;34m]\u001b[0m\u001b[0;34m,\u001b[0m \u001b[0msize\u001b[0m\u001b[0;34m=\u001b[0m\u001b[0;36m1\u001b[0m\u001b[0;34m)\u001b[0m\u001b[0;34m[\u001b[0m\u001b[0;36m0\u001b[0m\u001b[0;34m]\u001b[0m \u001b[0;31m# number of datapoint for a class in a node\u001b[0m\u001b[0;34m\u001b[0m\u001b[0m\n\u001b[0m\u001b[1;32m    304\u001b[0m                     \u001b[0;32mif\u001b[0m \u001b[0mNUM_DATA_PER_CLASS\u001b[0m\u001b[0;34m[\u001b[0m\u001b[0mi\u001b[0m\u001b[0;34m]\u001b[0m \u001b[0;34m>\u001b[0m \u001b[0mnum_sampled\u001b[0m\u001b[0;34m:\u001b[0m\u001b[0;34m\u001b[0m\u001b[0m\n\u001b[1;32m    305\u001b[0m                         \u001b[0mindice_sampled\u001b[0m \u001b[0;34m=\u001b[0m \u001b[0mnp\u001b[0m\u001b[0;34m.\u001b[0m\u001b[0mrandom\u001b[0m\u001b[0;34m.\u001b[0m\u001b[0mchoice\u001b[0m\u001b[0;34m(\u001b[0m\u001b[0mrange\u001b[0m\u001b[0;34m(\u001b[0m\u001b[0mNUM_DATA_PER_CLASS\u001b[0m\u001b[0;34m[\u001b[0m\u001b[0mi\u001b[0m\u001b[0;34m]\u001b[0m\u001b[0;34m)\u001b[0m\u001b[0;34m,\u001b[0m \u001b[0msize\u001b[0m\u001b[0;34m=\u001b[0m\u001b[0mnum_sampled\u001b[0m\u001b[0;34m,\u001b[0m \u001b[0mreplace\u001b[0m\u001b[0;34m=\u001b[0m\u001b[0;32mFalse\u001b[0m\u001b[0;34m)\u001b[0m\u001b[0;34m.\u001b[0m\u001b[0mtolist\u001b[0m\u001b[0;34m(\u001b[0m\u001b[0;34m)\u001b[0m\u001b[0;34m\u001b[0m\u001b[0m\n",
      "\u001b[0;32m~/FL-Sim/fl_data.py\u001b[0m in \u001b[0;36msample_truncated_normal\u001b[0;34m(mean, sd, low, upp, size)\u001b[0m\n\u001b[1;32m    164\u001b[0m         \u001b[0;32melse\u001b[0m\u001b[0;34m:\u001b[0m\u001b[0;34m\u001b[0m\u001b[0m\n\u001b[1;32m    165\u001b[0m             \u001b[0mlow\u001b[0m \u001b[0;34m=\u001b[0m \u001b[0mlow\u001b[0m \u001b[0;34m-\u001b[0m \u001b[0;36m0.5\u001b[0m\u001b[0;34m\u001b[0m\u001b[0m\n\u001b[0;32m--> 166\u001b[0;31m         \u001b[0msampled\u001b[0m \u001b[0;34m=\u001b[0m \u001b[0mtruncnorm\u001b[0m\u001b[0;34m(\u001b[0m\u001b[0;34m(\u001b[0m\u001b[0mlow\u001b[0m \u001b[0;34m-\u001b[0m \u001b[0mmean\u001b[0m\u001b[0;34m)\u001b[0m \u001b[0;34m/\u001b[0m \u001b[0msd\u001b[0m\u001b[0;34m,\u001b[0m \u001b[0;34m(\u001b[0m\u001b[0mupp\u001b[0m \u001b[0;34m-\u001b[0m \u001b[0mmean\u001b[0m\u001b[0;34m)\u001b[0m \u001b[0;34m/\u001b[0m \u001b[0msd\u001b[0m\u001b[0;34m,\u001b[0m \u001b[0mloc\u001b[0m\u001b[0;34m=\u001b[0m\u001b[0mmean\u001b[0m\u001b[0;34m,\u001b[0m \u001b[0mscale\u001b[0m\u001b[0;34m=\u001b[0m\u001b[0msd\u001b[0m\u001b[0;34m)\u001b[0m\u001b[0;34m.\u001b[0m\u001b[0mrvs\u001b[0m\u001b[0;34m(\u001b[0m\u001b[0msize\u001b[0m\u001b[0;34m)\u001b[0m\u001b[0;34m\u001b[0m\u001b[0m\n\u001b[0m\u001b[1;32m    167\u001b[0m         \u001b[0msampled\u001b[0m \u001b[0;34m=\u001b[0m \u001b[0;34m[\u001b[0m\u001b[0mint\u001b[0m\u001b[0;34m(\u001b[0m\u001b[0ma\u001b[0m\u001b[0;34m)\u001b[0m \u001b[0;32mfor\u001b[0m \u001b[0ma\u001b[0m \u001b[0;32min\u001b[0m \u001b[0mnp\u001b[0m\u001b[0;34m.\u001b[0m\u001b[0mround\u001b[0m\u001b[0;34m(\u001b[0m\u001b[0msampled\u001b[0m\u001b[0;34m)\u001b[0m\u001b[0;34m]\u001b[0m\u001b[0;34m\u001b[0m\u001b[0m\n\u001b[1;32m    168\u001b[0m     \u001b[0;32mreturn\u001b[0m \u001b[0msampled\u001b[0m\u001b[0;34m\u001b[0m\u001b[0m\n",
      "\u001b[0;32m~/.local/lib/python3.5/site-packages/scipy/stats/_distn_infrastructure.py\u001b[0m in \u001b[0;36mrvs\u001b[0;34m(self, size, random_state)\u001b[0m\n\u001b[1;32m    461\u001b[0m         \u001b[0mkwds\u001b[0m \u001b[0;34m=\u001b[0m \u001b[0mself\u001b[0m\u001b[0;34m.\u001b[0m\u001b[0mkwds\u001b[0m\u001b[0;34m.\u001b[0m\u001b[0mcopy\u001b[0m\u001b[0;34m(\u001b[0m\u001b[0;34m)\u001b[0m\u001b[0;34m\u001b[0m\u001b[0m\n\u001b[1;32m    462\u001b[0m         \u001b[0mkwds\u001b[0m\u001b[0;34m.\u001b[0m\u001b[0mupdate\u001b[0m\u001b[0;34m(\u001b[0m\u001b[0;34m{\u001b[0m\u001b[0;34m'size'\u001b[0m\u001b[0;34m:\u001b[0m \u001b[0msize\u001b[0m\u001b[0;34m,\u001b[0m \u001b[0;34m'random_state'\u001b[0m\u001b[0;34m:\u001b[0m \u001b[0mrandom_state\u001b[0m\u001b[0;34m}\u001b[0m\u001b[0;34m)\u001b[0m\u001b[0;34m\u001b[0m\u001b[0m\n\u001b[0;32m--> 463\u001b[0;31m         \u001b[0;32mreturn\u001b[0m \u001b[0mself\u001b[0m\u001b[0;34m.\u001b[0m\u001b[0mdist\u001b[0m\u001b[0;34m.\u001b[0m\u001b[0mrvs\u001b[0m\u001b[0;34m(\u001b[0m\u001b[0;34m*\u001b[0m\u001b[0mself\u001b[0m\u001b[0;34m.\u001b[0m\u001b[0margs\u001b[0m\u001b[0;34m,\u001b[0m \u001b[0;34m**\u001b[0m\u001b[0mkwds\u001b[0m\u001b[0;34m)\u001b[0m\u001b[0;34m\u001b[0m\u001b[0m\n\u001b[0m\u001b[1;32m    464\u001b[0m \u001b[0;34m\u001b[0m\u001b[0m\n\u001b[1;32m    465\u001b[0m     \u001b[0;32mdef\u001b[0m \u001b[0msf\u001b[0m\u001b[0;34m(\u001b[0m\u001b[0mself\u001b[0m\u001b[0;34m,\u001b[0m \u001b[0mx\u001b[0m\u001b[0;34m)\u001b[0m\u001b[0;34m:\u001b[0m\u001b[0;34m\u001b[0m\u001b[0m\n",
      "\u001b[0;31mKeyboardInterrupt\u001b[0m: "
     ]
    }
   ],
   "source": [
    "import fl_util\n",
    "\n",
    "NUM_NODES = 100\n",
    "NUM_EDGES = 10\n",
    "NUM_NODES_PER_EDGE = NUM_NODES / NUM_EDGES\n",
    "\n",
    "def assert_groupByEdge(dataByNid, z, numNodes_, numEdges_, numNodesPerEdge_, numClassesPerNode_, numClassesPerEdge_):\n",
    "    numNodes = len(dataByNid)\n",
    "    numEdges = len(np.unique(z))\n",
    "    nids_byGid = fl_util.to_nids_byGid(z)\n",
    "    numNodesPerEdge = np.mean([ len(nids) for nids in nids_byGid ])\n",
    "    numClassesPerNode = np.mean([ np.mean([ len(np.unique(dataByNid[nid]['y'])) for nid in nids ]) for nids in nids_byGid ])\n",
    "    numClassesPerEdge = np.mean([ len(np.unique(np.concatenate([dataByNid[nid]['y'] for nid in nids]))) for nids in nids_byGid ])\n",
    "    xType = type(dataByNid[0]['x'][0])\n",
    "    xPixelType = type(dataByNid[0]['x'][0].flatten()[0])\n",
    "    yType = type(dataByNid[0]['y'][0].flatten()[0])\n",
    "    print(numNodes, numEdges, numNodesPerEdge, numClassesPerNode, numClassesPerEdge, xType, xPixelType, yType)\n",
    "    assert( np.all([ len(n['x']) > 1 for n in dataByNid ]) )\n",
    "    assert( numNodes == numNodes_ )\n",
    "    assert( numEdges == numEdges_ )\n",
    "    assert( numNodesPerEdge == numNodesPerEdge_ )\n",
    "#     assert( numClassesPerNode == numClassesPerNode_ ) # numClassesPerNode is stochastic\n",
    "#     assert( numClassesPerEdge == numClassesPerEdge_ )\n",
    "    assert( xType == np.ndarray )\n",
    "    assert( xPixelType == np.float32 )\n",
    "    assert( yType == np.int32 )\n",
    "\n",
    "(trainData_byNid, train_z) = fl_data.groupByEdge(trainData_by1Nid, 2, 2, NUM_NODES, NUM_EDGES)\n",
    "assert_groupByEdge(trainData_byNid, train_z, NUM_NODES, NUM_EDGES, NUM_NODES_PER_EDGE, 1, 1)\n",
    "\n",
    "(trainData_byNid, train_z) = fl_data.groupByEdge(trainData_by1Nid, 2, 4, NUM_NODES, NUM_EDGES)\n",
    "assert_groupByEdge(trainData_byNid, train_z, NUM_NODES, NUM_EDGES, NUM_NODES_PER_EDGE, 1, numTotalClasses/5)\n",
    "\n",
    "(trainData_byNid, train_z) = fl_data.groupByEdge(trainData_by1Nid, 3, 4, NUM_NODES, NUM_EDGES)\n",
    "assert_groupByEdge(trainData_byNid, train_z, NUM_NODES, NUM_EDGES, NUM_NODES_PER_EDGE, 1, numTotalClasses/2)\n",
    "\n",
    "(trainData_byNid, train_z) = fl_data.groupByEdge(trainData_by1Nid, 4, 4, NUM_NODES, NUM_EDGES)\n",
    "assert_groupByEdge(trainData_byNid, train_z, NUM_NODES, NUM_EDGES, NUM_NODES_PER_EDGE, 1, numTotalClasses)\n",
    "\n",
    "(trainData_byNid, train_z) = fl_data.groupByEdge(trainData_by1Nid, 2, 6, NUM_NODES, NUM_EDGES)\n",
    "assert_groupByEdge(trainData_byNid, train_z, NUM_NODES, NUM_EDGES, NUM_NODES_PER_EDGE, numTotalClasses/5, numTotalClasses/5)\n",
    "\n",
    "(trainData_byNid, train_z) = fl_data.groupByEdge(trainData_by1Nid, 4, 6, NUM_NODES, NUM_EDGES)\n",
    "assert_groupByEdge(trainData_byNid, train_z, NUM_NODES, NUM_EDGES, NUM_NODES_PER_EDGE, numTotalClasses/5, 6)\n",
    "\n",
    "(trainData_byNid, train_z) = fl_data.groupByEdge(trainData_by1Nid, 6, 6, NUM_NODES, NUM_EDGES)\n",
    "assert_groupByEdge(trainData_byNid, train_z, NUM_NODES, NUM_EDGES, NUM_NODES_PER_EDGE, numTotalClasses/5, numTotalClasses)\n",
    "\n",
    "(trainData_byNid, train_z) = fl_data.groupByEdge(trainData_by1Nid, 2, 8, NUM_NODES, NUM_EDGES)\n",
    "assert_groupByEdge(trainData_byNid, train_z, NUM_NODES, NUM_EDGES, NUM_NODES_PER_EDGE, numTotalClasses/2, numTotalClasses/2)\n",
    "\n",
    "(trainData_byNid, train_z) = fl_data.groupByEdge(trainData_by1Nid, 4, 8, NUM_NODES, NUM_EDGES)\n",
    "assert_groupByEdge(trainData_byNid, train_z, NUM_NODES, NUM_EDGES, NUM_NODES_PER_EDGE, numTotalClasses/2, numTotalClasses)\n",
    "\n",
    "(trainData_byNid, train_z) = fl_data.groupByEdge(trainData_by1Nid, 8, 8, NUM_NODES, NUM_EDGES)\n",
    "assert_groupByEdge(trainData_byNid, train_z, NUM_NODES, NUM_EDGES, NUM_NODES_PER_EDGE, numTotalClasses, numTotalClasses)"
   ]
  },
  {
   "cell_type": "code",
   "execution_count": null,
   "metadata": {},
   "outputs": [],
   "source": [
    "NUM_NODES = 600\n",
    "NUM_EDGES = 20\n",
    "NUM_NODES_PER_EDGE = NUM_NODES / NUM_EDGES\n",
    "\n",
    "(trainData_byNid, train_z) = fl_data.groupByEdge(trainData_by1Nid, 2, 2, NUM_NODES, NUM_EDGES)\n",
    "assert_groupByEdge(trainData_byNid, train_z, NUM_NODES, NUM_EDGES, NUM_NODES_PER_EDGE, 1, 1)\n",
    "\n",
    "(trainData_byNid, train_z) = fl_data.groupByEdge(trainData_by1Nid, 2, 4, NUM_NODES, NUM_EDGES)\n",
    "assert_groupByEdge(trainData_byNid, train_z, NUM_NODES, NUM_EDGES, NUM_NODES_PER_EDGE, 1, numTotalClasses/5)\n",
    "\n",
    "(trainData_byNid, train_z) = fl_data.groupByEdge(trainData_by1Nid, 3, 4, NUM_NODES, NUM_EDGES)\n",
    "assert_groupByEdge(trainData_byNid, train_z, NUM_NODES, NUM_EDGES, NUM_NODES_PER_EDGE, 1, numTotalClasses/2)\n",
    "\n",
    "(trainData_byNid, train_z) = fl_data.groupByEdge(trainData_by1Nid, 4, 4, NUM_NODES, NUM_EDGES)\n",
    "assert_groupByEdge(trainData_byNid, train_z, NUM_NODES, NUM_EDGES, NUM_NODES_PER_EDGE, 1, numTotalClasses)\n",
    "\n",
    "(trainData_byNid, train_z) = fl_data.groupByEdge(trainData_by1Nid, 2, 6, NUM_NODES, NUM_EDGES)\n",
    "assert_groupByEdge(trainData_byNid, train_z, NUM_NODES, NUM_EDGES, NUM_NODES_PER_EDGE, numTotalClasses/5, numTotalClasses/5)\n",
    "\n",
    "(trainData_byNid, train_z) = fl_data.groupByEdge(trainData_by1Nid, 4, 6, NUM_NODES, NUM_EDGES)\n",
    "assert_groupByEdge(trainData_byNid, train_z, NUM_NODES, NUM_EDGES, NUM_NODES_PER_EDGE, numTotalClasses/5, 6)\n",
    "\n",
    "(trainData_byNid, train_z) = fl_data.groupByEdge(trainData_by1Nid, 6, 6, NUM_NODES, NUM_EDGES)\n",
    "assert_groupByEdge(trainData_byNid, train_z, NUM_NODES, NUM_EDGES, NUM_NODES_PER_EDGE, numTotalClasses/5, numTotalClasses)\n",
    "\n",
    "(trainData_byNid, train_z) = fl_data.groupByEdge(trainData_by1Nid, 2, 8, NUM_NODES, NUM_EDGES)\n",
    "assert_groupByEdge(trainData_byNid, train_z, NUM_NODES, NUM_EDGES, NUM_NODES_PER_EDGE, numTotalClasses/2, numTotalClasses/2)\n",
    "\n",
    "(trainData_byNid, train_z) = fl_data.groupByEdge(trainData_by1Nid, 4, 8, NUM_NODES, NUM_EDGES)\n",
    "assert_groupByEdge(trainData_byNid, train_z, NUM_NODES, NUM_EDGES, NUM_NODES_PER_EDGE, numTotalClasses/2, numTotalClasses)\n",
    "\n",
    "(trainData_byNid, train_z) = fl_data.groupByEdge(trainData_by1Nid, 8, 8, NUM_NODES, NUM_EDGES)\n",
    "assert_groupByEdge(trainData_byNid, train_z, NUM_NODES, NUM_EDGES, NUM_NODES_PER_EDGE, numTotalClasses, numTotalClasses)"
   ]
  }
 ],
 "metadata": {
  "kernelspec": {
   "display_name": "Python 3",
   "language": "python",
   "name": "python3"
  },
  "language_info": {
   "codemirror_mode": {
    "name": "ipython",
    "version": 3
   },
   "file_extension": ".py",
   "mimetype": "text/x-python",
   "name": "python",
   "nbconvert_exporter": "python",
   "pygments_lexer": "ipython3",
   "version": "3.5.2"
  }
 },
 "nbformat": 4,
 "nbformat_minor": 4
}
