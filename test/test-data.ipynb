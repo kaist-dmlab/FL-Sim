{
 "cells": [
  {
   "cell_type": "markdown",
   "metadata": {},
   "source": [
    "# Test Preprocess"
   ]
  },
  {
   "cell_type": "code",
   "execution_count": 1,
   "metadata": {},
   "outputs": [
    {
     "name": "stdout",
     "output_type": "stream",
     "text": [
      "2 (47011, 28, 28, 1)\n",
      "2 (47011,) [ 0  1  2  3  4  5  6  7  8  9 10 11 12 13 14 15 16 17 18 19 20 21 22 23\n",
      " 24 25 26 27 28 29 30 31 32 33 34 35 36 37 38 39 40 41 42 43 44 45 46 47\n",
      " 48 49 50 51 52 53 54 55 56 57 58 59 60 61]\n",
      "[2320, 2628, 2334, 2459, 2350, 2162, 2382, 2440, 2385, 2287, 422, 250, 662, 307, 290, 608, 174, 207, 776, 261, 174, 356, 590, 557, 1632, 574, 188, 329, 1408, 583, 814, 321, 303, 209, 337, 191, 646, 337, 179, 649, 1639, 181, 261, 576, 179, 127, 144, 933, 150, 793, 185, 180, 200, 933, 214, 1130, 189, 191, 199, 174, 163, 189]\n",
      "1000 1000\n"
     ]
    }
   ],
   "source": [
    "import numpy as np\n",
    "import os\n",
    "\n",
    "import fl_const\n",
    "import fl_data\n",
    "import fl_util\n",
    "\n",
    "fl_util.initialize()\n",
    "\n",
    "DATA_NAME = 'femnist' # mnist-o / mnist-f / femnist / celeba\n",
    "\n",
    "trainData_by1Nid = fl_util.deserialize(os.path.join(fl_const.DATA_DIR_PATH, DATA_NAME, 'train'))\n",
    "\n",
    "print(len(trainData_by1Nid[0]), trainData_by1Nid[0]['x'].shape)\n",
    "print(len(trainData_by1Nid[0]), trainData_by1Nid[0]['y'].shape, np.unique(trainData_by1Nid[0]['y']))\n",
    "numTotalClasses = len(np.unique(trainData_by1Nid[0]['y']))\n",
    "\n",
    "print([ len(x['x']) for x in fl_data.groupByClass(trainData_by1Nid) ])\n",
    "\n",
    "trainData_by1Nid_sampled = fl_data.sample(trainData_by1Nid, 1000)\n",
    "print(len(trainData_by1Nid_sampled[0]['x']), len(trainData_by1Nid_sampled[0]['y']))\n",
    "\n",
    "# Group Representation Test\n",
    "NUM_NODES = 100\n",
    "NUM_GROUPS = 10\n",
    "z1 = fl_data.groupRandomly(NUM_NODES, NUM_GROUPS)\n",
    "nids_byGid = fl_data.to_nids_byGid(z1)\n",
    "z2 = fl_data.to_z(NUM_NODES, nids_byGid)\n",
    "assert(z1 == z2)"
   ]
  },
  {
   "cell_type": "markdown",
   "metadata": {},
   "source": [
    "# Test Node Non-IID"
   ]
  },
  {
   "cell_type": "code",
   "execution_count": 2,
   "metadata": {},
   "outputs": [
    {
     "name": "stdout",
     "output_type": "stream",
     "text": [
      "150 47011 6.28 <class 'numpy.ndarray'> <class 'numpy.float32'> <class 'numpy.int32'>\n",
      "150 47011 15.51 <class 'numpy.ndarray'> <class 'numpy.float32'> <class 'numpy.int32'>\n",
      "150 47011 30.96 <class 'numpy.ndarray'> <class 'numpy.float32'> <class 'numpy.int32'>\n",
      "150 47011 55.03 <class 'numpy.ndarray'> <class 'numpy.float32'> <class 'numpy.int32'>\n"
     ]
    }
   ],
   "source": [
    "NUM_NODES = 150\n",
    "NUM_TOTAL_EXAMPLES = len(trainData_by1Nid[0]['y'])\n",
    "\n",
    "def assert_groupByNode(dataByNid, numNodes_, numTotalExamples_, numClassesPerNode_):\n",
    "    numNodes = len(dataByNid)\n",
    "    numTotalExamples = sum( len(n['x']) for n in dataByNid )\n",
    "    numClassesPerNode = np.mean([ len(np.unique(n['y'])) for n in dataByNid ])\n",
    "    xType = type(dataByNid[0]['x'][0])\n",
    "    xPixelType = type(dataByNid[0]['x'][0].flatten()[0])\n",
    "    yType = type(dataByNid[0]['y'][0].flatten()[0])\n",
    "    print('%d %d %.2f %s %s %s' % (numNodes, numTotalExamples, numClassesPerNode, xType, xPixelType, yType))\n",
    "    \n",
    "    if DATA_NAME != 'celeba': # Due to the lack of number of classes in 'celeba'\n",
    "        assert( abs((numClassesPerNode - numClassesPerNode_) / numClassesPerNode_) < 0.15 )\n",
    "    assert( np.all([ len(n['x']) > 1 for n in dataByNid ]) )\n",
    "    assert( numNodes == numNodes_ )\n",
    "    assert( numTotalExamples == numTotalExamples_ )\n",
    "    assert( xType == np.ndarray )\n",
    "    assert( xPixelType == np.float32 )\n",
    "    assert( yType == np.int32 )\n",
    "\n",
    "trainData_byNid = fl_data.groupByNode(trainData_by1Nid, 't', NUM_NODES)\n",
    "assert_groupByNode(trainData_byNid, NUM_NODES, NUM_TOTAL_EXAMPLES, numTotalClasses/10)\n",
    "    \n",
    "trainData_byNid = fl_data.groupByNode(trainData_by1Nid, 'q', NUM_NODES)\n",
    "assert_groupByNode(trainData_byNid, NUM_NODES, NUM_TOTAL_EXAMPLES, numTotalClasses/4)\n",
    "\n",
    "trainData_byNid = fl_data.groupByNode(trainData_by1Nid, 'h', NUM_NODES)\n",
    "assert_groupByNode(trainData_byNid, NUM_NODES, NUM_TOTAL_EXAMPLES, numTotalClasses/2)\n",
    "\n",
    "trainData_byNid = fl_data.groupByNode(trainData_by1Nid, 'a', NUM_NODES)\n",
    "assert_groupByNode(trainData_byNid, NUM_NODES, NUM_TOTAL_EXAMPLES, numTotalClasses)"
   ]
  },
  {
   "cell_type": "markdown",
   "metadata": {},
   "source": [
    "# Test Node & Edge Non-IID"
   ]
  },
  {
   "cell_type": "code",
   "execution_count": 3,
   "metadata": {},
   "outputs": [
    {
     "name": "stdout",
     "output_type": "stream",
     "text": [
      "100 10 10.00 5.96 6.30 <class 'numpy.ndarray'> <class 'numpy.float32'> <class 'numpy.int32'>\n",
      "100 10 10.00 6.30 15.40 <class 'numpy.ndarray'> <class 'numpy.float32'> <class 'numpy.int32'>\n",
      "100 10 10.00 6.25 31.00 <class 'numpy.ndarray'> <class 'numpy.float32'> <class 'numpy.int32'>\n",
      "100 10 10.00 6.24 62.00 <class 'numpy.ndarray'> <class 'numpy.float32'> <class 'numpy.int32'>\n",
      "100 10 10.00 15.09 15.50 <class 'numpy.ndarray'> <class 'numpy.float32'> <class 'numpy.int32'>\n",
      "100 10 10.00 15.47 31.00 <class 'numpy.ndarray'> <class 'numpy.float32'> <class 'numpy.int32'>\n",
      "100 10 10.00 15.49 62.00 <class 'numpy.ndarray'> <class 'numpy.float32'> <class 'numpy.int32'>\n",
      "100 10 10.00 30.59 31.00 <class 'numpy.ndarray'> <class 'numpy.float32'> <class 'numpy.int32'>\n",
      "100 10 10.00 30.92 62.00 <class 'numpy.ndarray'> <class 'numpy.float32'> <class 'numpy.int32'>\n",
      "100 10 10.00 58.37 59.80 <class 'numpy.ndarray'> <class 'numpy.float32'> <class 'numpy.int32'>\n"
     ]
    }
   ],
   "source": [
    "NUM_NODES = 100\n",
    "NUM_EDGES = 10\n",
    "NUM_NODES_PER_EDGE = NUM_NODES / NUM_EDGES\n",
    "\n",
    "def assert_groupByEdge(dataByNid, z, numNodes_, numEdges_, numNodesPerEdge_, numClassesPerNode_, numClassesPerEdge_):\n",
    "    numNodes = len(dataByNid)\n",
    "    numEdges = len(np.unique(z))\n",
    "    nids_byGid = fl_data.to_nids_byGid(z)\n",
    "    numNodesPerEdge = np.mean([ len(nids) for nids in nids_byGid ])\n",
    "    numClassesPerNode = np.mean([ np.mean([ len(np.unique(dataByNid[nid]['y'])) for nid in nids ]) for nids in nids_byGid ])\n",
    "    numClassesPerEdge = np.mean([ len(np.unique(np.concatenate([dataByNid[nid]['y'] for nid in nids]))) for nids in nids_byGid ])\n",
    "    xType = type(dataByNid[0]['x'][0])\n",
    "    xPixelType = type(dataByNid[0]['x'][0].flatten()[0])\n",
    "    yType = type(dataByNid[0]['y'][0].flatten()[0])\n",
    "    print('%d %d %.2f %.2f %.2f %s %s %s' % (numNodes, numEdges, numNodesPerEdge, numClassesPerNode, numClassesPerEdge, xType, xPixelType, yType))\n",
    "    if DATA_NAME != 'celeba': # Due to the lack of number of classes in 'celeba'\n",
    "        assert( abs((numClassesPerNode - numClassesPerNode_) / numClassesPerNode_) < 0.2 )\n",
    "        assert( abs((numClassesPerEdge - numClassesPerEdge_) / numClassesPerEdge_) < 0.2 )\n",
    "    assert( np.all([ len(n['x']) > 1 for n in dataByNid ]) )\n",
    "    assert( numNodes == numNodes_ )\n",
    "    assert( numEdges == numEdges_ )\n",
    "    assert( numNodesPerEdge == numNodesPerEdge_ )\n",
    "    assert( xType == np.ndarray )\n",
    "    assert( xPixelType == np.float32 )\n",
    "    assert( yType == np.int32 )\n",
    "\n",
    "(trainData_byNid, z_edge) = fl_data.groupByEdge(trainData_by1Nid, 't', 't', NUM_NODES, NUM_EDGES)\n",
    "assert_groupByEdge(trainData_byNid, z_edge, NUM_NODES, NUM_EDGES, NUM_NODES_PER_EDGE, numTotalClasses/10, numTotalClasses/10)\n",
    "\n",
    "(trainData_byNid, z_edge) = fl_data.groupByEdge(trainData_by1Nid, 't', 'q', NUM_NODES, NUM_EDGES)\n",
    "assert_groupByEdge(trainData_byNid, z_edge, NUM_NODES, NUM_EDGES, NUM_NODES_PER_EDGE, numTotalClasses/10, numTotalClasses/4)\n",
    "\n",
    "(trainData_byNid, z_edge) = fl_data.groupByEdge(trainData_by1Nid, 't', 'h', NUM_NODES, NUM_EDGES)\n",
    "assert_groupByEdge(trainData_byNid, z_edge, NUM_NODES, NUM_EDGES, NUM_NODES_PER_EDGE, numTotalClasses/10, numTotalClasses/2)\n",
    "\n",
    "(trainData_byNid, z_edge) = fl_data.groupByEdge(trainData_by1Nid, 't', 'a', NUM_NODES, NUM_EDGES)\n",
    "assert_groupByEdge(trainData_byNid, z_edge, NUM_NODES, NUM_EDGES, NUM_NODES_PER_EDGE, numTotalClasses/10, numTotalClasses)\n",
    "\n",
    "(trainData_byNid, z_edge) = fl_data.groupByEdge(trainData_by1Nid, 'q', 'q', NUM_NODES, NUM_EDGES)\n",
    "assert_groupByEdge(trainData_byNid, z_edge, NUM_NODES, NUM_EDGES, NUM_NODES_PER_EDGE, numTotalClasses/4, numTotalClasses/4)\n",
    "\n",
    "(trainData_byNid, z_edge) = fl_data.groupByEdge(trainData_by1Nid, 'q', 'h', NUM_NODES, NUM_EDGES)\n",
    "assert_groupByEdge(trainData_byNid, z_edge, NUM_NODES, NUM_EDGES, NUM_NODES_PER_EDGE, numTotalClasses/4, numTotalClasses/2)\n",
    "\n",
    "(trainData_byNid, z_edge) = fl_data.groupByEdge(trainData_by1Nid, 'q', 'a', NUM_NODES, NUM_EDGES)\n",
    "assert_groupByEdge(trainData_byNid, z_edge, NUM_NODES, NUM_EDGES, NUM_NODES_PER_EDGE, numTotalClasses/4, numTotalClasses)\n",
    "\n",
    "(trainData_byNid, z_edge) = fl_data.groupByEdge(trainData_by1Nid, 'h', 'h', NUM_NODES, NUM_EDGES)\n",
    "assert_groupByEdge(trainData_byNid, z_edge, NUM_NODES, NUM_EDGES, NUM_NODES_PER_EDGE, numTotalClasses/2, numTotalClasses/2)\n",
    "\n",
    "(trainData_byNid, z_edge) = fl_data.groupByEdge(trainData_by1Nid, 'h', 'a', NUM_NODES, NUM_EDGES)\n",
    "assert_groupByEdge(trainData_byNid, z_edge, NUM_NODES, NUM_EDGES, NUM_NODES_PER_EDGE, numTotalClasses/2, numTotalClasses)\n",
    "\n",
    "(trainData_byNid, z_edge) = fl_data.groupByEdge(trainData_by1Nid, 'a', 'a', NUM_NODES, NUM_EDGES)\n",
    "assert_groupByEdge(trainData_byNid, z_edge, NUM_NODES, NUM_EDGES, NUM_NODES_PER_EDGE, numTotalClasses, numTotalClasses)"
   ]
  },
  {
   "cell_type": "code",
   "execution_count": 4,
   "metadata": {},
   "outputs": [],
   "source": [
    "# NUM_NODES = 600\n",
    "# NUM_EDGES = 20\n",
    "# NUM_NODES_PER_EDGE = NUM_NODES / NUM_EDGES\n",
    "\n",
    "# (trainData_byNid, z_edge) = fl_data.groupByEdge(trainData_by1Nid, 't', 't', NUM_NODES, NUM_EDGES)\n",
    "# assert_groupByEdge(trainData_byNid, z_edge, NUM_NODES, NUM_EDGES, NUM_NODES_PER_EDGE, numTotalClasses/10, numTotalClasses/10)\n",
    "\n",
    "# (trainData_byNid, z_edge) = fl_data.groupByEdge(trainData_by1Nid, 't', 'q', NUM_NODES, NUM_EDGES)\n",
    "# assert_groupByEdge(trainData_byNid, z_edge, NUM_NODES, NUM_EDGES, NUM_NODES_PER_EDGE, numTotalClasses/10, numTotalClasses/4)\n",
    "\n",
    "# (trainData_byNid, z_edge) = fl_data.groupByEdge(trainData_by1Nid, 't', 'h', NUM_NODES, NUM_EDGES)\n",
    "# assert_groupByEdge(trainData_byNid, z_edge, NUM_NODES, NUM_EDGES, NUM_NODES_PER_EDGE, numTotalClasses/10, numTotalClasses/2)\n",
    "\n",
    "# (trainData_byNid, z_edge) = fl_data.groupByEdge(trainData_by1Nid, 't', 'a', NUM_NODES, NUM_EDGES)\n",
    "# assert_groupByEdge(trainData_byNid, z_edge, NUM_NODES, NUM_EDGES, NUM_NODES_PER_EDGE, numTotalClasses/10, numTotalClasses)\n",
    "\n",
    "# (trainData_byNid, z_edge) = fl_data.groupByEdge(trainData_by1Nid, 'q', 'q', NUM_NODES, NUM_EDGES)\n",
    "# assert_groupByEdge(trainData_byNid, z_edge, NUM_NODES, NUM_EDGES, NUM_NODES_PER_EDGE, numTotalClasses/4, numTotalClasses/4)\n",
    "\n",
    "# (trainData_byNid, z_edge) = fl_data.groupByEdge(trainData_by1Nid, 'q', 'h', NUM_NODES, NUM_EDGES)\n",
    "# assert_groupByEdge(trainData_byNid, z_edge, NUM_NODES, NUM_EDGES, NUM_NODES_PER_EDGE, numTotalClasses/4, numTotalClasses/2)\n",
    "\n",
    "# (trainData_byNid, z_edge) = fl_data.groupByEdge(trainData_by1Nid, 'q', 'a', NUM_NODES, NUM_EDGES)\n",
    "# assert_groupByEdge(trainData_byNid, z_edge, NUM_NODES, NUM_EDGES, NUM_NODES_PER_EDGE, numTotalClasses/4, numTotalClasses)\n",
    "\n",
    "# (trainData_byNid, z_edge) = fl_data.groupByEdge(trainData_by1Nid, 'h', 'h', NUM_NODES, NUM_EDGES)\n",
    "# assert_groupByEdge(trainData_byNid, z_edge, NUM_NODES, NUM_EDGES, NUM_NODES_PER_EDGE, numTotalClasses/2, numTotalClasses/2)\n",
    "\n",
    "# (trainData_byNid, z_edge) = fl_data.groupByEdge(trainData_by1Nid, 'h', 'a', NUM_NODES, NUM_EDGES)\n",
    "# assert_groupByEdge(trainData_byNid, z_edge, NUM_NODES, NUM_EDGES, NUM_NODES_PER_EDGE, numTotalClasses/2, numTotalClasses)\n",
    "\n",
    "# (trainData_byNid, z_edge) = fl_data.groupByEdge(trainData_by1Nid, 'a', 'a', NUM_NODES, NUM_EDGES)\n",
    "# assert_groupByEdge(trainData_byNid, z_edge, NUM_NODES, NUM_EDGES, NUM_NODES_PER_EDGE, numTotalClasses, numTotalClasses)"
   ]
  }
 ],
 "metadata": {
  "kernelspec": {
   "display_name": "Python 3",
   "language": "python",
   "name": "python3"
  },
  "language_info": {
   "codemirror_mode": {
    "name": "ipython",
    "version": 3
   },
   "file_extension": ".py",
   "mimetype": "text/x-python",
   "name": "python",
   "nbconvert_exporter": "python",
   "pygments_lexer": "ipython3",
   "version": "3.5.2"
  }
 },
 "nbformat": 4,
 "nbformat_minor": 4
}
