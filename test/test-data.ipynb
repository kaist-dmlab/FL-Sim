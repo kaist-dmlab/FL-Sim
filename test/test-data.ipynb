{
 "cells": [
  {
   "cell_type": "markdown",
   "metadata": {},
   "source": [
    "# Test Preprocess & Repeat"
   ]
  },
  {
   "cell_type": "code",
   "execution_count": 1,
   "metadata": {},
   "outputs": [
    {
     "name": "stdout",
     "output_type": "stream",
     "text": [
      "2 (42000, 28, 28)\n",
      "2 (42000,) [0 1 2 3 4 5 6 7 8 9]\n",
      "[4206, 4700, 4182, 4271, 4068, 3791, 4160, 4360, 4127, 4135]\n",
      "1000 1000\n"
     ]
    }
   ],
   "source": [
    "import numpy as np\n",
    "import os\n",
    "\n",
    "import fl_data\n",
    "import fl_util\n",
    "\n",
    "MODEL_NAME = 'sr'\n",
    "DATA_NAME = 'mnist-o' # mnist-o / mnist-f / cifar10\n",
    "\n",
    "trainData_by1Nid = fl_util.deserialize(os.path.join('..', 'data', DATA_NAME, 'train'))\n",
    "\n",
    "print(len(trainData_by1Nid[0]), trainData_by1Nid[0]['x'].shape)\n",
    "print(len(trainData_by1Nid[0]), trainData_by1Nid[0]['y'].shape, np.unique(trainData_by1Nid[0]['y']))\n",
    "numTotalClasses = len(np.unique(trainData_by1Nid[0]['y']))\n",
    "\n",
    "print([ len(x['x']) for x in fl_data.groupByClass(trainData_by1Nid) ])\n",
    "\n",
    "trainData_by1Nid_sampled = fl_data.sample(trainData_by1Nid, 1000)\n",
    "print(len(trainData_by1Nid_sampled[0]['x']), len(trainData_by1Nid_sampled[0]['y']))"
   ]
  },
  {
   "cell_type": "markdown",
   "metadata": {},
   "source": [
    "# Test Node Non-IID"
   ]
  },
  {
   "cell_type": "code",
   "execution_count": 2,
   "metadata": {},
   "outputs": [
    {
     "name": "stdout",
     "output_type": "stream",
     "text": [
      "150 42000 2.1533333333333333 <class 'numpy.ndarray'> <class 'numpy.float32'> <class 'numpy.int32'>\n",
      "150 42000 3.96 <class 'numpy.ndarray'> <class 'numpy.float32'> <class 'numpy.int32'>\n",
      "150 42000 5.96 <class 'numpy.ndarray'> <class 'numpy.float32'> <class 'numpy.int32'>\n",
      "150 42000 7.94 <class 'numpy.ndarray'> <class 'numpy.float32'> <class 'numpy.int32'>\n"
     ]
    }
   ],
   "source": [
    "NUM_NODES = 150\n",
    "NUM_TOTAL_EXAMPLES = len(trainData_by1Nid[0]['y'])\n",
    "\n",
    "def assert_groupByNode(dataByNid, numNodes_, numTotalExamples_, numClassesPerNode_):\n",
    "    numNodes = len(dataByNid)\n",
    "    numTotalExamples = sum( len(n['x']) for n in dataByNid )\n",
    "    numClassesPerNode = np.mean([ len(np.unique(n['y'])) for n in dataByNid ])\n",
    "    xType = type(dataByNid[0]['x'][0])\n",
    "    xPixelType = type(dataByNid[0]['x'][0].flatten()[0])\n",
    "    yType = type(dataByNid[0]['y'][0].flatten()[0])\n",
    "    print(numNodes, numTotalExamples, numClassesPerNode, xType, xPixelType, yType)\n",
    "    assert( np.all([ len(n['x']) > 1 for n in dataByNid ]) )\n",
    "    assert( numNodes == numNodes_ )\n",
    "    assert( numTotalExamples == numTotalExamples_ )\n",
    "#     assert( numClassesPerNode == numClassesPerNode_ ) # numClassesPerNode is stochastic\n",
    "    assert( xType == np.ndarray )\n",
    "    assert( xPixelType == np.float32 )\n",
    "    assert( yType == np.int32 )\n",
    "\n",
    "trainData_byNid = fl_data.groupByNode(trainData_by1Nid, 2, NUM_NODES)\n",
    "assert_groupByNode(trainData_byNid, NUM_NODES, NUM_TOTAL_EXAMPLES, 1)\n",
    "\n",
    "trainData_byNid = fl_data.groupByNode(trainData_by1Nid, 4, NUM_NODES)\n",
    "assert_groupByNode(trainData_byNid, NUM_NODES, NUM_TOTAL_EXAMPLES, numTotalClasses/5)\n",
    "\n",
    "trainData_byNid = fl_data.groupByNode(trainData_by1Nid, 6, NUM_NODES)\n",
    "assert_groupByNode(trainData_byNid, NUM_NODES, NUM_TOTAL_EXAMPLES, numTotalClasses/2)\n",
    "\n",
    "trainData_byNid = fl_data.groupByNode(trainData_by1Nid, 8, NUM_NODES)\n",
    "assert_groupByNode(trainData_byNid, NUM_NODES, NUM_TOTAL_EXAMPLES, numTotalClasses)"
   ]
  },
  {
   "cell_type": "markdown",
   "metadata": {},
   "source": [
    "# Test Node & Edge Non-IID"
   ]
  },
  {
   "cell_type": "code",
   "execution_count": 3,
   "metadata": {},
   "outputs": [
    {
     "name": "stdout",
     "output_type": "stream",
     "text": [
      "100 10 10.0 1.77 2.0 <class 'numpy.ndarray'> <class 'numpy.float32'> <class 'numpy.int32'>\n",
      "100 10 10.0 2.2 4.1 <class 'numpy.ndarray'> <class 'numpy.float32'> <class 'numpy.int32'>\n",
      "100 10 10.0 2.8899999999999997 4.1 <class 'numpy.ndarray'> <class 'numpy.float32'> <class 'numpy.int32'>\n",
      "100 10 10.0 3.65 4.1 <class 'numpy.ndarray'> <class 'numpy.float32'> <class 'numpy.int32'>\n",
      "100 10 10.0 2.2199999999999998 6.1 <class 'numpy.ndarray'> <class 'numpy.float32'> <class 'numpy.int32'>\n",
      "100 10 10.0 4.17 6.1 <class 'numpy.ndarray'> <class 'numpy.float32'> <class 'numpy.int32'>\n",
      "100 10 10.0 5.8100000000000005 6.1 <class 'numpy.ndarray'> <class 'numpy.float32'> <class 'numpy.int32'>\n",
      "100 10 10.0 2.29 8.1 <class 'numpy.ndarray'> <class 'numpy.float32'> <class 'numpy.int32'>\n",
      "100 10 10.0 4.15 8.1 <class 'numpy.ndarray'> <class 'numpy.float32'> <class 'numpy.int32'>\n",
      "100 10 10.0 7.7 8.1 <class 'numpy.ndarray'> <class 'numpy.float32'> <class 'numpy.int32'>\n"
     ]
    }
   ],
   "source": [
    "NUM_NODES = 100\n",
    "NUM_EDGES = 10\n",
    "NUM_NODES_PER_EDGE = NUM_NODES / NUM_EDGES\n",
    "\n",
    "def assert_groupByEdge(dataByNid, z, numNodes_, numEdges_, numNodesPerEdge_, numClassesPerNode_, numClassesPerEdge_):\n",
    "    numNodes = len(dataByNid)\n",
    "    numEdges = len(np.unique(z))\n",
    "    nids_byGid = fl_data.to_nids_byGid(z)\n",
    "    numNodesPerEdge = np.mean([ len(nids) for nids in nids_byGid ])\n",
    "    numClassesPerNode = np.mean([ np.mean([ len(np.unique(dataByNid[nid]['y'])) for nid in nids ]) for nids in nids_byGid ])\n",
    "    numClassesPerEdge = np.mean([ len(np.unique(np.concatenate([dataByNid[nid]['y'] for nid in nids]))) for nids in nids_byGid ])\n",
    "    xType = type(dataByNid[0]['x'][0])\n",
    "    xPixelType = type(dataByNid[0]['x'][0].flatten()[0])\n",
    "    yType = type(dataByNid[0]['y'][0].flatten()[0])\n",
    "    print(numNodes, numEdges, numNodesPerEdge, numClassesPerNode, numClassesPerEdge, xType, xPixelType, yType)\n",
    "    assert( np.all([ len(n['x']) > 1 for n in dataByNid ]) )\n",
    "    assert( numNodes == numNodes_ )\n",
    "    assert( numEdges == numEdges_ )\n",
    "    assert( numNodesPerEdge == numNodesPerEdge_ )\n",
    "#     assert( numClassesPerNode == numClassesPerNode_ ) # numClassesPerNode is stochastic\n",
    "#     assert( numClassesPerEdge == numClassesPerEdge_ )\n",
    "    assert( xType == np.ndarray )\n",
    "    assert( xPixelType == np.float32 )\n",
    "    assert( yType == np.int32 )\n",
    "\n",
    "(trainData_byNid, train_z) = fl_data.groupByEdge(trainData_by1Nid, 2, 2, NUM_NODES, NUM_EDGES)\n",
    "assert_groupByEdge(trainData_byNid, train_z, NUM_NODES, NUM_EDGES, NUM_NODES_PER_EDGE, 1, 1)\n",
    "\n",
    "(trainData_byNid, train_z) = fl_data.groupByEdge(trainData_by1Nid, 2, 4, NUM_NODES, NUM_EDGES)\n",
    "assert_groupByEdge(trainData_byNid, train_z, NUM_NODES, NUM_EDGES, NUM_NODES_PER_EDGE, 1, numTotalClasses/5)\n",
    "\n",
    "(trainData_byNid, train_z) = fl_data.groupByEdge(trainData_by1Nid, 3, 4, NUM_NODES, NUM_EDGES)\n",
    "assert_groupByEdge(trainData_byNid, train_z, NUM_NODES, NUM_EDGES, NUM_NODES_PER_EDGE, 1, numTotalClasses/2)\n",
    "\n",
    "(trainData_byNid, train_z) = fl_data.groupByEdge(trainData_by1Nid, 4, 4, NUM_NODES, NUM_EDGES)\n",
    "assert_groupByEdge(trainData_byNid, train_z, NUM_NODES, NUM_EDGES, NUM_NODES_PER_EDGE, 1, numTotalClasses)\n",
    "\n",
    "(trainData_byNid, train_z) = fl_data.groupByEdge(trainData_by1Nid, 2, 6, NUM_NODES, NUM_EDGES)\n",
    "assert_groupByEdge(trainData_byNid, train_z, NUM_NODES, NUM_EDGES, NUM_NODES_PER_EDGE, numTotalClasses/5, numTotalClasses/5)\n",
    "\n",
    "(trainData_byNid, train_z) = fl_data.groupByEdge(trainData_by1Nid, 4, 6, NUM_NODES, NUM_EDGES)\n",
    "assert_groupByEdge(trainData_byNid, train_z, NUM_NODES, NUM_EDGES, NUM_NODES_PER_EDGE, numTotalClasses/5, 6)\n",
    "\n",
    "(trainData_byNid, train_z) = fl_data.groupByEdge(trainData_by1Nid, 6, 6, NUM_NODES, NUM_EDGES)\n",
    "assert_groupByEdge(trainData_byNid, train_z, NUM_NODES, NUM_EDGES, NUM_NODES_PER_EDGE, numTotalClasses/5, numTotalClasses)\n",
    "\n",
    "(trainData_byNid, train_z) = fl_data.groupByEdge(trainData_by1Nid, 2, 8, NUM_NODES, NUM_EDGES)\n",
    "assert_groupByEdge(trainData_byNid, train_z, NUM_NODES, NUM_EDGES, NUM_NODES_PER_EDGE, numTotalClasses/2, numTotalClasses/2)\n",
    "\n",
    "(trainData_byNid, train_z) = fl_data.groupByEdge(trainData_by1Nid, 4, 8, NUM_NODES, NUM_EDGES)\n",
    "assert_groupByEdge(trainData_byNid, train_z, NUM_NODES, NUM_EDGES, NUM_NODES_PER_EDGE, numTotalClasses/2, numTotalClasses)\n",
    "\n",
    "(trainData_byNid, train_z) = fl_data.groupByEdge(trainData_by1Nid, 8, 8, NUM_NODES, NUM_EDGES)\n",
    "assert_groupByEdge(trainData_byNid, train_z, NUM_NODES, NUM_EDGES, NUM_NODES_PER_EDGE, numTotalClasses, numTotalClasses)"
   ]
  },
  {
   "cell_type": "code",
   "execution_count": null,
   "metadata": {},
   "outputs": [
    {
     "name": "stdout",
     "output_type": "stream",
     "text": [
      "600 20 30.0 1.7449999999999999 2.05 <class 'numpy.ndarray'> <class 'numpy.float32'> <class 'numpy.int32'>\n",
      "600 20 30.0 2.1866666666666665 4.05 <class 'numpy.ndarray'> <class 'numpy.float32'> <class 'numpy.int32'>\n",
      "600 20 30.0 2.9233333333333333 4.05 <class 'numpy.ndarray'> <class 'numpy.float32'> <class 'numpy.int32'>\n",
      "600 20 30.0 3.633333333333333 4.05 <class 'numpy.ndarray'> <class 'numpy.float32'> <class 'numpy.int32'>\n",
      "600 20 30.0 2.1566666666666667 5.9 <class 'numpy.ndarray'> <class 'numpy.float32'> <class 'numpy.int32'>\n",
      "600 20 30.0 3.893333333333333 5.9 <class 'numpy.ndarray'> <class 'numpy.float32'> <class 'numpy.int32'>\n",
      "600 20 30.0 5.525 5.9 <class 'numpy.ndarray'> <class 'numpy.float32'> <class 'numpy.int32'>\n"
     ]
    }
   ],
   "source": [
    "NUM_NODES = 600\n",
    "NUM_EDGES = 20\n",
    "NUM_NODES_PER_EDGE = NUM_NODES / NUM_EDGES\n",
    "\n",
    "(trainData_byNid, train_z) = fl_data.groupByEdge(trainData_by1Nid, 2, 2, NUM_NODES, NUM_EDGES)\n",
    "assert_groupByEdge(trainData_byNid, train_z, NUM_NODES, NUM_EDGES, NUM_NODES_PER_EDGE, 1, 1)\n",
    "\n",
    "(trainData_byNid, train_z) = fl_data.groupByEdge(trainData_by1Nid, 2, 4, NUM_NODES, NUM_EDGES)\n",
    "assert_groupByEdge(trainData_byNid, train_z, NUM_NODES, NUM_EDGES, NUM_NODES_PER_EDGE, 1, numTotalClasses/5)\n",
    "\n",
    "(trainData_byNid, train_z) = fl_data.groupByEdge(trainData_by1Nid, 3, 4, NUM_NODES, NUM_EDGES)\n",
    "assert_groupByEdge(trainData_byNid, train_z, NUM_NODES, NUM_EDGES, NUM_NODES_PER_EDGE, 1, numTotalClasses/2)\n",
    "\n",
    "(trainData_byNid, train_z) = fl_data.groupByEdge(trainData_by1Nid, 4, 4, NUM_NODES, NUM_EDGES)\n",
    "assert_groupByEdge(trainData_byNid, train_z, NUM_NODES, NUM_EDGES, NUM_NODES_PER_EDGE, 1, numTotalClasses)\n",
    "\n",
    "(trainData_byNid, train_z) = fl_data.groupByEdge(trainData_by1Nid, 2, 6, NUM_NODES, NUM_EDGES)\n",
    "assert_groupByEdge(trainData_byNid, train_z, NUM_NODES, NUM_EDGES, NUM_NODES_PER_EDGE, numTotalClasses/5, numTotalClasses/5)\n",
    "\n",
    "(trainData_byNid, train_z) = fl_data.groupByEdge(trainData_by1Nid, 4, 6, NUM_NODES, NUM_EDGES)\n",
    "assert_groupByEdge(trainData_byNid, train_z, NUM_NODES, NUM_EDGES, NUM_NODES_PER_EDGE, numTotalClasses/5, 6)\n",
    "\n",
    "(trainData_byNid, train_z) = fl_data.groupByEdge(trainData_by1Nid, 6, 6, NUM_NODES, NUM_EDGES)\n",
    "assert_groupByEdge(trainData_byNid, train_z, NUM_NODES, NUM_EDGES, NUM_NODES_PER_EDGE, numTotalClasses/5, numTotalClasses)\n",
    "\n",
    "(trainData_byNid, train_z) = fl_data.groupByEdge(trainData_by1Nid, 2, 8, NUM_NODES, NUM_EDGES)\n",
    "assert_groupByEdge(trainData_byNid, train_z, NUM_NODES, NUM_EDGES, NUM_NODES_PER_EDGE, numTotalClasses/2, numTotalClasses/2)\n",
    "\n",
    "(trainData_byNid, train_z) = fl_data.groupByEdge(trainData_by1Nid, 4, 8, NUM_NODES, NUM_EDGES)\n",
    "assert_groupByEdge(trainData_byNid, train_z, NUM_NODES, NUM_EDGES, NUM_NODES_PER_EDGE, numTotalClasses/2, numTotalClasses)\n",
    "\n",
    "(trainData_byNid, train_z) = fl_data.groupByEdge(trainData_by1Nid, 8, 8, NUM_NODES, NUM_EDGES)\n",
    "assert_groupByEdge(trainData_byNid, train_z, NUM_NODES, NUM_EDGES, NUM_NODES_PER_EDGE, numTotalClasses, numTotalClasses)"
   ]
  }
 ],
 "metadata": {
  "kernelspec": {
   "display_name": "Python 3",
   "language": "python",
   "name": "python3"
  },
  "language_info": {
   "codemirror_mode": {
    "name": "ipython",
    "version": 3
   },
   "file_extension": ".py",
   "mimetype": "text/x-python",
   "name": "python",
   "nbconvert_exporter": "python",
   "pygments_lexer": "ipython3",
   "version": "3.5.2"
  }
 },
 "nbformat": 4,
 "nbformat_minor": 4
}
