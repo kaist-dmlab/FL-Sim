{
 "cells": [
  {
   "cell_type": "code",
   "execution_count": 1,
   "metadata": {},
   "outputs": [],
   "source": [
    "import tensorflow as tf\n",
    "from sklearn import model_selection\n",
    "import numpy as np\n",
    "import os\n",
    "\n",
    "import fl_util\n",
    "\n",
    "np.random.seed(1234)\n",
    "tf.set_random_seed(1234)"
   ]
  },
  {
   "cell_type": "markdown",
   "metadata": {},
   "source": [
    "# Keras"
   ]
  },
  {
   "cell_type": "code",
   "execution_count": 2,
   "metadata": {},
   "outputs": [
    {
     "name": "stdout",
     "output_type": "stream",
     "text": [
      "(70000, 28, 28, 1) (70000,)\n",
      "42000 14000 14000\n",
      "(70000, 28, 28, 1) (70000,)\n",
      "42000 14000 14000\n",
      "(60000, 32, 32, 3) (60000,)\n",
      "36000 12000 12000\n"
     ]
    }
   ],
   "source": [
    "def trainTestValSplit(dataName, x, y):\n",
    "    # seed 를 고정시켜서 분할\n",
    "    x_train, x_test, y_train, y_test = model_selection.train_test_split(x, y, test_size=0.4, random_state=1234)\n",
    "    x_val, x_test, y_val, y_test = model_selection.train_test_split(x_test, y_test, test_size=0.5, random_state=1234)\n",
    "    trainData_by1Nid = np.array([ { 'x': x_train, 'y': y_train } ])\n",
    "    valData_by1Nid = np.array([ { 'x': x_val, 'y': y_val } ])\n",
    "    testData_by1Nid = np.array([ { 'x': x_test, 'y': y_test } ])\n",
    "    print(len(trainData_by1Nid[0]['x']), len(valData_by1Nid[0]['x']), len(testData_by1Nid[0]['y']))\n",
    "    \n",
    "    fl_util.serialize(os.path.join(dataName, 'train'), trainData_by1Nid)\n",
    "    fl_util.serialize(os.path.join(dataName, 'val'), valData_by1Nid)\n",
    "    fl_util.serialize(os.path.join(dataName, 'test'), testData_by1Nid)\n",
    "    \n",
    "def prepare(dataName, expand_dims_x):\n",
    "    if dataName == 'mnist-o':\n",
    "        trainData, testData = tf.keras.datasets.mnist.load_data()\n",
    "    elif dataName == 'mnist-f':\n",
    "        trainData, testData = tf.keras.datasets.fashion_mnist.load_data()\n",
    "    elif dataName == 'cifar10':\n",
    "        trainData, testData = tf.keras.datasets.cifar10.load_data()\n",
    "    else:\n",
    "        raise Exception(DATA_NAME)\n",
    "    x = np.concatenate((trainData[0], testData[0]), axis=0)\n",
    "    y = np.concatenate((trainData[1], testData[1]), axis=0)\n",
    "    \n",
    "    x = np.array([ x_ / 255.0 for x_ in x ], dtype=np.float32) # Normalize\n",
    "    if expand_dims_x == True:\n",
    "        x = np.expand_dims(x, axis=-1)\n",
    "    if dataName == 'cifar10':\n",
    "        y = y.flatten() # cifar10 의 경우 flatten 필요\n",
    "    print(x.shape, y.shape)\n",
    "    \n",
    "#     x = np.array([ x.flatten() / 255.0 if flatten else x / 255.0 for x in dataX ], dtype=np.float32)\n",
    "\n",
    "#     if modelName == 'svm':\n",
    "#         if dataName == 'cifar10':\n",
    "#             # airplane, automobile, bird, cat, deer, dog, frog, horse, ship, truck\n",
    "#             vehicleClasses = [0, 1, 8, 9]\n",
    "#             y = np.array([ -1 if y in vehicleClasses else 1 for y in dataY ], dtype=np.int32)\n",
    "#         else:\n",
    "#             raise Exception(dataName)\n",
    "#     else:\n",
    "#         y = np.array(dataY, dtype=np.int32)\n",
    "\n",
    "    trainTestValSplit(dataName, x, y)\n",
    "\n",
    "# MNIST-O\n",
    "prepare('mnist-o', expand_dims_x=True)\n",
    "prepare('mnist-f', expand_dims_x=True)\n",
    "prepare('cifar10', expand_dims_x=False)"
   ]
  },
  {
   "cell_type": "markdown",
   "metadata": {},
   "source": [
    "# LEAF - FEMNIST (./preprocess.sh -s iid --sf 0.1)"
   ]
  },
  {
   "cell_type": "code",
   "execution_count": 3,
   "metadata": {},
   "outputs": [
    {
     "data": {
      "text/plain": [
       "<Figure size 640x480 with 1 Axes>"
      ]
     },
     "metadata": {},
     "output_type": "display_data"
    },
    {
     "name": "stdout",
     "output_type": "stream",
     "text": [
      "8\n",
      "(78353, 28, 28, 1) (78353,)\n",
      "62\n",
      "47011 15671 15671\n"
     ]
    }
   ],
   "source": [
    "IMAGE_SIZE = 28\n",
    "\n",
    "dataName = 'femnist'\n",
    "uids, _, data = fl_util.readJsonDir(os.path.join(dataName, 'sampled'))\n",
    "\n",
    "x = np.concatenate([ data[uid]['x'] for uid in uids ], axis=0)\n",
    "y = np.concatenate([ data[uid]['y'] for uid in uids ], axis=0)\n",
    "\n",
    "x = x.reshape((-1, IMAGE_SIZE, IMAGE_SIZE))\n",
    "\n",
    "fid = 580\n",
    "import matplotlib.pyplot as plt\n",
    "plt.imshow(x[fid], cmap='gray')\n",
    "plt.show()\n",
    "print(y[fid])\n",
    "\n",
    "x = np.expand_dims(x, axis=-1)\n",
    "print(x.shape, y.shape)\n",
    "print(len(np.unique(y)))\n",
    "\n",
    "trainTestValSplit(dataName, x, y)"
   ]
  },
  {
   "cell_type": "markdown",
   "metadata": {},
   "source": [
    "# LEAF - CELEBA (./preprocess.sh -s iid --sf 0.05)"
   ]
  },
  {
   "cell_type": "code",
   "execution_count": 4,
   "metadata": {},
   "outputs": [
    {
     "name": "stdout",
     "output_type": "stream",
     "text": [
      "(10014,) (10014,)\n",
      "(10014, 84, 84, 3) (10014,)\n",
      "6008 2003 2003\n"
     ]
    }
   ],
   "source": [
    "from PIL import Image\n",
    "\n",
    "IMAGE_SIZE = 84\n",
    "IMAGES_DIR = os.path.join('celeba', 'img_align_celeba')\n",
    "\n",
    "def _load_image(img_name):\n",
    "    img = Image.open(os.path.join(IMAGES_DIR, img_name))\n",
    "    img = img.resize((IMAGE_SIZE, IMAGE_SIZE)).convert('RGB')\n",
    "    img = np.array(img, dtype=np.float32)\n",
    "    return img / 255.0\n",
    "\n",
    "dataName = 'celeba'\n",
    "uids, _, data = fl_util.readJsonDir(os.path.join(dataName, 'sampled'))\n",
    "x_fileNames = np.concatenate([ data[uid]['x'] for uid in uids ], axis=0)\n",
    "y = np.concatenate([ data[uid]['y'] for uid in uids ], axis=0)\n",
    "print(x_fileNames.shape, y.shape)\n",
    "x = np.array([ _load_image(x_fileName) for x_fileName in x_fileNames ], dtype=np.float32)\n",
    "print(x.shape, y.shape)\n",
    "\n",
    "trainTestValSplit(dataName, x, y)"
   ]
  }
 ],
 "metadata": {
  "kernelspec": {
   "display_name": "Python 3",
   "language": "python",
   "name": "python3"
  },
  "language_info": {
   "codemirror_mode": {
    "name": "ipython",
    "version": 3
   },
   "file_extension": ".py",
   "mimetype": "text/x-python",
   "name": "python",
   "nbconvert_exporter": "python",
   "pygments_lexer": "ipython3",
   "version": "3.5.2"
  }
 },
 "nbformat": 4,
 "nbformat_minor": 4
}
