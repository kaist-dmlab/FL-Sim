{
 "cells": [
  {
   "cell_type": "code",
   "execution_count": null,
   "metadata": {},
   "outputs": [
    {
     "name": "stdout",
     "output_type": "stream",
     "text": [
      "100_10_svm_cifar10_CH-FedAvg\n",
      "Shape of trainData on 1st node: (454, 3072) (454,)\n",
      "Simulation Finished(d_global) : 0.077 s\n",
      "Simulation Finished(d_group) : 0.019 s\n",
      "Epoch\t1\tloss=0.863\taccuracy=0.600\ttime=0.0769\taggrType=Global\tnumGroups=10\ttau1=1\ttau2=1\n",
      "IID Grouping Started\n",
      "Initial Delta_star=2.7128\n"
     ]
    }
   ],
   "source": [
    "! python3 main.py --algName='ch_fedavg' 2> /dev/null"
   ]
  }
 ],
 "metadata": {
  "kernelspec": {
   "display_name": "Python 3",
   "language": "python",
   "name": "python3"
  },
  "language_info": {
   "codemirror_mode": {
    "name": "ipython",
    "version": 3
   },
   "file_extension": ".py",
   "mimetype": "text/x-python",
   "name": "python",
   "nbconvert_exporter": "python",
   "pygments_lexer": "ipython3",
   "version": "3.5.2"
  }
 },
 "nbformat": 4,
 "nbformat_minor": 4
}
