{
 "cells": [
  {
   "cell_type": "code",
   "execution_count": null,
   "metadata": {},
   "outputs": [
    {
     "name": "stdout",
     "output_type": "stream",
     "text": [
      "Shape of trainData on 1st node: (295, 784) (295,)\n",
      "2nn_mnist-o_ch-fedavg_12_0.5\n",
      "Simulation Finished(d_global) : 4.988 s\n"
     ]
    }
   ],
   "source": [
    "for modelName in ['2nn']:\n",
    "    for dataName in ['mnist-o']:\n",
    "#         ! python3 main.py --modelName=$modelName --dataName=$dataName --algName='cgd' --numNodeClasses=2 --numEdgeClasses=2 2> logs/stderr.txt\n",
    "#         for numNodeClasses in [2]:\n",
    "#             for tau1 in [10]:\n",
    "#                 ! python3 main.py --modelName=$modelName --dataName=$dataName --algName='fedavg' --numNodeClasses=$numNodeClasses --numEdgeClasses=3 \\\n",
    "#                                     --opaque1=$tau1 2> logs/stderr.txt\n",
    "\n",
    "#         for numNodeClasses in [1]:\n",
    "#             numEdgeClassess = [1, 5] if numNodeClasses == 1 else [5]\n",
    "#         for numNodeClasses in [1, 2.5]:\n",
    "#             numEdgeClassess = [2.5] if numNodeClasses == 1 else [2.5, 5]\n",
    "#             for numEdgeClasses in [1]:\n",
    "#                 for tau2 in [2]:\n",
    "#                     ! python3 main.py --modelName=$modelName --dataName=$dataName --algName='hier-favg' --numNodeClasses=$numNodeClasses --numEdgeClasses=$numEdgeClasses \\\n",
    "#                                        --opaque1=1 --opaque2=$tau2 2> logs/stderr.txt\n",
    "\n",
    "        for numNodeClasses in [1]:\n",
    "            for numEdgeClasses in [2]:\n",
    "                for d_budget in [0.5]:\n",
    "                    ! python3 main.py --modelName=$modelName --dataName=$dataName --algName='ch-fedavg' --numNodeClasses=$numNodeClasses --numEdgeClasses=$numEdgeClasses \\\n",
    "                                        --opaque1=$d_budget --numGroups=10 2> logs/stderr.txt"
   ]
  }
 ],
 "metadata": {
  "kernelspec": {
   "display_name": "Python 3",
   "language": "python",
   "name": "python3"
  },
  "language_info": {
   "codemirror_mode": {
    "name": "ipython",
    "version": 3
   },
   "file_extension": ".py",
   "mimetype": "text/x-python",
   "name": "python",
   "nbconvert_exporter": "python",
   "pygments_lexer": "ipython3",
   "version": "3.5.2"
  }
 },
 "nbformat": 4,
 "nbformat_minor": 4
}
