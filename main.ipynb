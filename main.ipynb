{
 "cells": [
  {
   "cell_type": "code",
   "execution_count": 6,
   "metadata": {},
   "outputs": [
    {
     "name": "stdout",
     "output_type": "stream",
     "text": [
      "Shape of trainData on 1st node: (734, 784) (734,)\n",
      "100_10_sr_mnist-o_CGD\n",
      "Epoch\t1\tloss=2.209\taccuracy=0.681\n",
      "Epoch\t2\tloss=2.125\taccuracy=0.711\n",
      "Epoch\t3\tloss=2.048\taccuracy=0.732\n",
      "Epoch\t4\tloss=1.978\taccuracy=0.745\n",
      "Epoch\t5\tloss=1.913\taccuracy=0.755\n",
      "Epoch\t6\tloss=1.854\taccuracy=0.761\n",
      "Epoch\t7\tloss=1.800\taccuracy=0.769\n",
      "Epoch\t8\tloss=1.750\taccuracy=0.776\n",
      "Epoch\t9\tloss=1.704\taccuracy=0.783\n",
      "Epoch\t10\tloss=1.662\taccuracy=0.787\n",
      "Epoch\t11\tloss=1.623\taccuracy=0.791\n",
      "Epoch\t12\tloss=1.587\taccuracy=0.795\n",
      "Epoch\t13\tloss=1.554\taccuracy=0.799\n",
      "Epoch\t14\tloss=1.523\taccuracy=0.801\n",
      "Epoch\t15\tloss=1.494\taccuracy=0.804\n",
      "Epoch\t16\tloss=1.467\taccuracy=0.807\n",
      "Epoch\t17\tloss=1.443\taccuracy=0.809\n",
      "Epoch\t18\tloss=1.419\taccuracy=0.812\n",
      "^C\n",
      "\n"
     ]
    }
   ],
   "source": [
    "! python3 main.py --modelName='sr' --dataName='mnist-o' --algName='fedavg' --opaque1=1 --opaque2=1 2> logs/stderr.txt"
   ]
  }
 ],
 "metadata": {
  "kernelspec": {
   "display_name": "Python 3",
   "language": "python",
   "name": "python3"
  },
  "language_info": {
   "codemirror_mode": {
    "name": "ipython",
    "version": 3
   },
   "file_extension": ".py",
   "mimetype": "text/x-python",
   "name": "python",
   "nbconvert_exporter": "python",
   "pygments_lexer": "ipython3",
   "version": "3.5.2"
  }
 },
 "nbformat": 4,
 "nbformat_minor": 4
}
