{
 "cells": [
  {
   "cell_type": "code",
   "execution_count": null,
   "metadata": {},
   "outputs": [],
   "source": [
    "for modelName in ['2nn']:\n",
    "    for dataName in ['mnist-o']:\n",
    "        ! python3 main.py --modelName=$modelName --dataName=$dataName --algName='cgd' --nodeType='t'\n",
    "#         for nodeType in ['t']:#, 'q', 'h']:\n",
    "#             for tau1 in [2]:#, 10, 20, 30]:\n",
    "#                 ! python3 main.py --modelName=$modelName --dataName=$dataName --algName='fedavg' --nodeType=$nodeType \\\n",
    "#                                     --opaque1=$tau1\n",
    "\n",
    "#         for (nodeType, edgeType) in [('t', 't')]:#, ('t', 'q'), ('t', 'h'), ('q', 'q'), ('q', 'h'), ('h', 'h')]:\n",
    "#             for tau2 in [2]:#, 10, 20, 30]:\n",
    "#                 ! python3 main.py --modelName=$modelName --dataName=$dataName --algName='hier-favg' --nodeType=$nodeType --edgeType=$edgeType \\\n",
    "#                 --opaque1=1 --opaque2=$tau2\n",
    "\n",
    "#         for nodeType in ['t']:\n",
    "#             for d_budget in [10]:\n",
    "#                 ! python3 main.py --modelName=$modelName --dataName=$dataName --algName='ch-fedavg-d' --nodeType=$nodeType \\\n",
    "#                                     --opaque1=$d_budget --numGroups=20"
   ]
  }
 ],
 "metadata": {
  "kernelspec": {
   "display_name": "Python 3",
   "language": "python",
   "name": "python3"
  },
  "language_info": {
   "codemirror_mode": {
    "name": "ipython",
    "version": 3
   },
   "file_extension": ".py",
   "mimetype": "text/x-python",
   "name": "python",
   "nbconvert_exporter": "python",
   "pygments_lexer": "ipython3",
   "version": "3.5.2"
  }
 },
 "nbformat": 4,
 "nbformat_minor": 4
}
