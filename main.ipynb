{
 "cells": [
  {
   "cell_type": "code",
   "execution_count": null,
   "metadata": {},
   "outputs": [],
   "source": [
    "for modelName, dataName in [('cnn-mnist', 'mnist-o')]:\n",
    "    ! python3 main.py --modelName=$modelName --dataName=$dataName --algName='cgd'\n",
    "    for nodeType in ['t']:#, 'q', 'h']:\n",
    "        for tau1 in [5]:#, 25]:\n",
    "            ! python3 main.py --modelName=$modelName --dataName=$dataName --algName='fedavg' \\\n",
    "            --nodeType=$nodeType --opaque1=$tau1\n",
    "\n",
    "    for nodeType, edgeType in [('t', 't')]:#, ('t', 'q'), ('t', 'h'), ('q', 'q'), ('q', 'h'), ('h', 'h')]:\n",
    "        for tau1, tau2 in [(1, 5)]:#, (5, 5)]:\n",
    "            ! python3 main.py --modelName=$modelName --dataName=$dataName --algName='hier-favg' \\\n",
    "            --nodeType=$nodeType --edgeType=$edgeType --opaque1=$tau1 --opaque2=$tau2\n",
    "\n",
    "    for nodeType, edgeType in [('t', 't')]:#, ('t', 'q'), ('t', 'h'), ('q', 'q'), ('q', 'h'), ('h', 'h')]:\n",
    "        for tau1, tau2 in [(1, 5)]:\n",
    "            for numGroups in [5]:\n",
    "                ! python3 main.py --modelName=$modelName --dataName=$dataName --algName='fedavg-c' \\\n",
    "                    --nodeType=$nodeType --edgeType=$edgeType --opaque1=$tau1 --opaque2=$tau2 --numGroups=$numGroups\n",
    "                ! python3 main.py --modelName=$modelName --dataName=$dataName --algName='fedavg-i' \\\n",
    "                    --nodeType=$nodeType --edgeType=$edgeType --opaque1=$tau1 --opaque2=$tau2 --numGroups=$numGroups\n",
    "                ! python3 main.py --modelName=$modelName --dataName=$dataName --algName='fedavg-ic' \\\n",
    "                    --nodeType=$nodeType --edgeType=$edgeType --opaque1=$tau1 --opaque2=$tau2 --numGroups=$numGroups"
   ]
  }
 ],
 "metadata": {
  "kernelspec": {
   "display_name": "Python 3",
   "language": "python",
   "name": "python3"
  },
  "language_info": {
   "codemirror_mode": {
    "name": "ipython",
    "version": 3
   },
   "file_extension": ".py",
   "mimetype": "text/x-python",
   "name": "python",
   "nbconvert_exporter": "python",
   "pygments_lexer": "ipython3",
   "version": "3.5.2"
  }
 },
 "nbformat": 4,
 "nbformat_minor": 4
}
