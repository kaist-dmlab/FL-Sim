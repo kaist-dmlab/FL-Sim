{
 "cells": [
  {
   "cell_type": "code",
   "execution_count": 7,
   "metadata": {},
   "outputs": [
    {
     "name": "stdout",
     "output_type": "stream",
     "text": [
      "100_10_sr_mnist-o_CGD\n",
      "Shape of trainData on 1st node: (734, 784) (734,)\n",
      "Epoch\t1\tloss=2.195\taccuracy=0.681\n",
      "Epoch\t2\tloss=2.098\taccuracy=0.711\n",
      "Epoch\t3\tloss=2.009\taccuracy=0.732\n",
      "Epoch\t4\tloss=1.927\taccuracy=0.745\n",
      "Epoch\t5\tloss=1.851\taccuracy=0.755\n",
      "Epoch\t6\tloss=1.782\taccuracy=0.761\n",
      "Epoch\t7\tloss=1.718\taccuracy=0.769\n",
      "Epoch\t8\tloss=1.659\taccuracy=0.776\n",
      "Epoch\t9\tloss=1.605\taccuracy=0.783\n",
      "Epoch\t10\tloss=1.555\taccuracy=0.787\n",
      "Epoch\t11\tloss=1.509\taccuracy=0.791\n",
      "Epoch\t12\tloss=1.466\taccuracy=0.795\n",
      "Epoch\t13\tloss=1.426\taccuracy=0.799\n",
      "Epoch\t14\tloss=1.389\taccuracy=0.801\n",
      "Epoch\t15\tloss=1.355\taccuracy=0.804\n",
      "Epoch\t16\tloss=1.323\taccuracy=0.807\n",
      "Epoch\t17\tloss=1.293\taccuracy=0.809\n",
      "Epoch\t18\tloss=1.265\taccuracy=0.812\n",
      "Epoch\t19\tloss=1.239\taccuracy=0.813\n",
      "Epoch\t20\tloss=1.215\taccuracy=0.816\n",
      "Epoch\t21\tloss=1.192\taccuracy=0.817\n",
      "Epoch\t22\tloss=1.171\taccuracy=0.818\n",
      "Epoch\t23\tloss=1.150\taccuracy=0.819\n",
      "Epoch\t24\tloss=1.131\taccuracy=0.821\n",
      "Epoch\t25\tloss=1.113\taccuracy=0.822\n",
      "Epoch\t26\tloss=1.096\taccuracy=0.824\n",
      "Epoch\t27\tloss=1.080\taccuracy=0.825\n",
      "Epoch\t28\tloss=1.064\taccuracy=0.826\n",
      "Epoch\t29\tloss=1.050\taccuracy=0.827\n",
      "Epoch\t30\tloss=1.036\taccuracy=0.828\n",
      "Epoch\t31\tloss=1.023\taccuracy=0.830\n",
      "Epoch\t32\tloss=1.010\taccuracy=0.831\n",
      "Epoch\t33\tloss=0.999\taccuracy=0.832\n",
      "Epoch\t34\tloss=0.987\taccuracy=0.833\n",
      "Epoch\t35\tloss=0.976\taccuracy=0.833\n",
      "Epoch\t36\tloss=0.966\taccuracy=0.834\n",
      "Epoch\t37\tloss=0.956\taccuracy=0.835\n",
      "^C\n",
      "\n"
     ]
    }
   ],
   "source": [
    "! python3 main.py --modelName='sr' --dataName='mnist-o' --algName='cgd' 2> logs/stderr.txt"
   ]
  }
 ],
 "metadata": {
  "kernelspec": {
   "display_name": "Python 3",
   "language": "python",
   "name": "python3"
  },
  "language_info": {
   "codemirror_mode": {
    "name": "ipython",
    "version": 3
   },
   "file_extension": ".py",
   "mimetype": "text/x-python",
   "name": "python",
   "nbconvert_exporter": "python",
   "pygments_lexer": "ipython3",
   "version": "3.5.2"
  }
 },
 "nbformat": 4,
 "nbformat_minor": 4
}
