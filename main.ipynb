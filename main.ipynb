{
 "cells": [
  {
   "cell_type": "code",
   "execution_count": 56,
   "metadata": {},
   "outputs": [
    {
     "name": "stdout",
     "output_type": "stream",
     "text": [
      "Parsing Inputs...\n",
      "\n",
      "=========================Options=============================\n",
      "-max_depth                  10000\n",
      "-min_bytes                  0\n",
      "-min_peak_bytes             0\n",
      "-min_residual_bytes         0\n",
      "-min_output_bytes           0\n",
      "-min_micros                 0\n",
      "-min_accelerator_micros     0\n",
      "-min_cpu_micros             0\n",
      "-min_params                 0\n",
      "-min_float_ops              1\n",
      "-min_occurrence             0\n",
      "-step                       -1\n",
      "-order_by                   float_ops\n",
      "-account_type_regexes       .*\n",
      "-start_name_regexes         .*\n",
      "-trim_name_regexes          \n",
      "-show_name_regexes          .*\n",
      "-hide_name_regexes          \n",
      "-account_displayed_op_only  true\n",
      "-select                     float_ops\n",
      "-output                     stdout:\n",
      "\n",
      "==================Model Analysis Report======================\n",
      "\n",
      "Doc:\n",
      "scope: The nodes in the model graph are organized by their names, which is hierarchical like filesystem.\n",
      "flops: Number of float operations. Note: Please read the implementation for the math behind it.\n",
      "\n",
      "Profile:\n",
      "node name | # float_ops\n",
      "_TFProfRoot (--/398.43k flops)\n",
      "  random_normal (156.80k/313.60k flops)\n",
      "    random_normal/mul (156.80k/156.80k flops)\n",
      "  random_normal_2 (40.00k/80.00k flops)\n",
      "    random_normal_2/mul (40.00k/40.00k flops)\n",
      "  random_normal_4 (2.00k/4.00k flops)\n",
      "    random_normal_4/mul (2.00k/2.00k flops)\n",
      "  random_normal_1 (200/400 flops)\n",
      "    random_normal_1/mul (200/200 flops)\n",
      "  random_normal_3 (200/400 flops)\n",
      "    random_normal_3/mul (200/200 flops)\n",
      "  random_normal_5 (10/20 flops)\n",
      "    random_normal_5/mul (10/10 flops)\n",
      "  gradients/Mean_grad/Maximum (1/1 flops)\n",
      "  gradients_1/Mean_grad/Maximum (1/1 flops)\n",
      "  softmax_cross_entropy_with_logits_sg/Sub (1/1 flops)\n",
      "  softmax_cross_entropy_with_logits_sg/Sub_1 (1/1 flops)\n",
      "  softmax_cross_entropy_with_logits_sg/Sub_2 (1/1 flops)\n",
      "  truediv (1/1 flops)\n",
      "  truediv_1 (1/1 flops)\n",
      "  truediv_2 (1/1 flops)\n",
      "\n",
      "======================End of Report==========================\n",
      "Shape of trainData on 1st node: (416, 784) (416,)\n",
      "2nn_mnist-o_cgd\n",
      "\n"
     ]
    }
   ],
   "source": [
    "for modelName in ['2nn']:\n",
    "    for dataName in ['mnist-o']:\n",
    "        ! python3 main.py --modelName=$modelName --dataName=$dataName --algName='cgd' --nodeType='t' 2> log/stderr.txt\n",
    "#         for nodeType in ['t']:\n",
    "#             for tau1 in [10]:\n",
    "#                 ! python3 main.py --modelName=$modelName --dataName=$dataName --algName='fedavg' --nodeType=$nodeType \\\n",
    "#                                     --opaque1=$tau1 2> log/stderr.txt\n",
    "\n",
    "#         for nodeType in ['t', 'q']:\n",
    "#             edgeTypes = ['q'] if nodeType == 't' else ['q', 'h']\n",
    "#         for nodeType in ['t']:\n",
    "#             edgeTypes = ['t', 'h'] if nodeType == 't' else ['h']\n",
    "#             for edgeType in ['t']:\n",
    "#                 for tau2 in [2]:\n",
    "#                     ! python3 main.py --modelName=$modelName --dataName=$dataName --algName='hier-favg' --nodeType=$nodeType --edgeType=$edgeType \\\n",
    "#                                        --opaque1=1 --opaque2=$tau2 2> log/stderr.txt\n",
    "\n",
    "#         for nodeType in ['t']:\n",
    "#             for d_budget in [0.5]:\n",
    "#                 ! python3 main.py --modelName=$modelName --dataName=$dataName --algName='ch-fedavg' --nodeType=$nodeType \\\n",
    "#                                     --opaque1=$d_budget --numGroups=10 2> log/stderr.txt"
   ]
  },
  {
   "cell_type": "code",
   "execution_count": 83,
   "metadata": {},
   "outputs": [
    {
     "name": "stdout",
     "output_type": "stream",
     "text": [
      "True\n",
      "False\n"
     ]
    }
   ],
   "source": [
    "a = set()\n",
    "a.add((1, 2))\n",
    "a.add((1, 2))\n",
    "a.add(tuple(sorted([2, 1])))\n",
    "a.add((3, 4))\n",
    "\n",
    "print((1, 2) in a)\n",
    "print((2, 1) in a)"
   ]
  }
 ],
 "metadata": {
  "kernelspec": {
   "display_name": "Python 3",
   "language": "python",
   "name": "python3"
  },
  "language_info": {
   "codemirror_mode": {
    "name": "ipython",
    "version": 3
   },
   "file_extension": ".py",
   "mimetype": "text/x-python",
   "name": "python",
   "nbconvert_exporter": "python",
   "pygments_lexer": "ipython3",
   "version": "3.5.2"
  }
 },
 "nbformat": 4,
 "nbformat_minor": 4
}
