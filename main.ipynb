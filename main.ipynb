{
 "cells": [
  {
   "cell_type": "code",
   "execution_count": null,
   "metadata": {},
   "outputs": [],
   "source": [
    "for modelName in ['2nn']:\n",
    "    for dataName in ['mnist-o']:\n",
    "        ! python3 main.py --modelName=$modelName --dataName=$dataName --algName='cgd' --nodeType='t' 2> log/stderr.txt\n",
    "#         for nodeType in ['t']:\n",
    "#             for tau1 in [10]:\n",
    "#                 ! python3 main.py --modelName=$modelName --dataName=$dataName --algName='fedavg' --nodeType=$nodeType \\\n",
    "#                                     --opaque1=$tau1 2> log/stderr.txt\n",
    "\n",
    "#         for nodeType in ['t', 'q']:\n",
    "#             edgeTypes = ['q'] if nodeType == 't' else ['q', 'h']\n",
    "#         for nodeType in ['t']:\n",
    "#             edgeTypes = ['t', 'h'] if nodeType == 't' else ['h']\n",
    "#             for edgeType in ['t']:\n",
    "#                 for tau2 in [2]:\n",
    "#                     ! python3 main.py --modelName=$modelName --dataName=$dataName --algName='hier-favg' --nodeType=$nodeType --edgeType=$edgeType \\\n",
    "#                                        --opaque1=1 --opaque2=$tau2 2> log/stderr.txt\n",
    "\n",
    "#         for nodeType in ['t']:\n",
    "#             for d_budget in [0.5]:\n",
    "#                 ! python3 main.py --modelName=$modelName --dataName=$dataName --algName='ch-fedavg' --nodeType=$nodeType \\\n",
    "#                                     --opaque1=$d_budget --numGroups=10 2> log/stderr.txt"
   ]
  }
 ],
 "metadata": {
  "kernelspec": {
   "display_name": "Python 3",
   "language": "python",
   "name": "python3"
  },
  "language_info": {
   "codemirror_mode": {
    "name": "ipython",
    "version": 3
   },
   "file_extension": ".py",
   "mimetype": "text/x-python",
   "name": "python",
   "nbconvert_exporter": "python",
   "pygments_lexer": "ipython3",
   "version": "3.5.2"
  }
 },
 "nbformat": 4,
 "nbformat_minor": 4
}
