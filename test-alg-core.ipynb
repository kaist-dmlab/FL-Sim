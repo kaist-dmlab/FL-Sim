{
 "cells": [
  {
   "cell_type": "markdown",
   "metadata": {},
   "source": [
    "# Test model package"
   ]
  },
  {
   "cell_type": "code",
   "execution_count": 3,
   "metadata": {},
   "outputs": [
    {
     "name": "stdout",
     "output_type": "stream",
     "text": [
      "Completed\n"
     ]
    }
   ],
   "source": [
    "import numpy as np\n",
    "import model.abc as abc\n",
    "\n",
    "w_ofNid1 = [ np.array([[4, 0], [4, 0]], dtype=np.float32), np.array([8, 0, 8], dtype=np.float32) ]\n",
    "w_ofNid2 = [ np.array([[0, 4], [0, 4]], dtype=np.float32), np.array([0, 8, 0], dtype=np.float32) ]\n",
    "w_byTime_byNid = [ [w_ofNid1], [w_ofNid2] ]\n",
    "weight_byNid = [ 1, 3 ]\n",
    "w_byTime = abc.federated_aggregate(w_byTime_byNid, weight_byNid)\n",
    "\n",
    "assert( w_byTime[0][0].tolist() == [[1, 3], [1, 3]] )\n",
    "assert( w_byTime[0][1].tolist() == [2, 6, 2] )\n",
    "assert( type(w_byTime[0][0][0,0]) == np.float32 )\n",
    "assert( np.linalg.norm(abc.np_flatten(w_ofNid1) - abc.np_flatten(w_ofNid2)) == 16 )\n",
    "print('Completed')"
   ]
  }
 ],
 "metadata": {
  "kernelspec": {
   "display_name": "Python 3",
   "language": "python",
   "name": "python3"
  },
  "language_info": {
   "codemirror_mode": {
    "name": "ipython",
    "version": 3
   },
   "file_extension": ".py",
   "mimetype": "text/x-python",
   "name": "python",
   "nbconvert_exporter": "python",
   "pygments_lexer": "ipython3",
   "version": "3.5.2"
  }
 },
 "nbformat": 4,
 "nbformat_minor": 4
}
