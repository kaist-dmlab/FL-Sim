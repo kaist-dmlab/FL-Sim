{
 "cells": [
  {
   "cell_type": "markdown",
   "metadata": {},
   "source": [
    "# Test Preprocess & Repeat"
   ]
  },
  {
   "cell_type": "code",
   "execution_count": 3,
   "metadata": {},
   "outputs": [
    {
     "name": "stdout",
     "output_type": "stream",
     "text": [
      "60000 60000\n",
      "2 (60000, 784)\n",
      "2 (60000,) [0 1 2 3 4 5 6 7 8 9]\n",
      "1000 1000\n"
     ]
    }
   ],
   "source": [
    "import numpy as np\n",
    "import tensorflow as tf\n",
    "import hfl_util\n",
    "\n",
    "MODEL_NAME = 'sr'\n",
    "DATA_NAME = 'mnist-o' # mnist-o / mnist-f / cifar10\n",
    "\n",
    "if MODEL_NAME == 'svm':\n",
    "    numTotalClasses = 2\n",
    "else:\n",
    "    numTotalClasses = 10\n",
    "    \n",
    "if DATA_NAME == 'mnist-o':\n",
    "    trainData, testData = tf.keras.datasets.mnist.load_data()\n",
    "elif DATA_NAME == 'mnist-f':\n",
    "    trainData, testData = tf.keras.datasets.fashion_mnist.load_data()\n",
    "elif DATA_NAME == 'cifar10':\n",
    "    trainData, testData = tf.keras.datasets.cifar10.load_data()\n",
    "else:\n",
    "    raise Exception(DATA_NAME)\n",
    "print(len(trainData[0]), len(trainData[1]))\n",
    "    \n",
    "if MODEL_NAME == 'cnn':\n",
    "    flatten = False\n",
    "else:\n",
    "    flatten = True\n",
    "    \n",
    "trainData_by1Nid = hfl_util.preprocess(MODEL_NAME, DATA_NAME, trainData, flatten)\n",
    "print(len(trainData_by1Nid[0]), trainData_by1Nid[0]['x'].shape)\n",
    "print(len(trainData_by1Nid[0]), trainData_by1Nid[0]['y'].shape, np.unique(trainData_by1Nid[0]['y']))\n",
    "\n",
    "trainData_by1Nid_sampled = hfl_util.sample(trainData_by1Nid, 1000)\n",
    "print(len(trainData_by1Nid_sampled[0]['x']), len(trainData_by1Nid_sampled[0]['y']))"
   ]
  },
  {
   "cell_type": "markdown",
   "metadata": {},
   "source": [
    "# Test Node Non-IID"
   ]
  },
  {
   "cell_type": "code",
   "execution_count": 2,
   "metadata": {},
   "outputs": [
    {
     "name": "stdout",
     "output_type": "stream",
     "text": [
      "150 50000 1.0 <class 'numpy.ndarray'> <class 'numpy.float32'> <class 'numpy.int32'>\n",
      "150 50000 5.0 <class 'numpy.ndarray'> <class 'numpy.float32'> <class 'numpy.int32'>\n",
      "150 50000 10.0 <class 'numpy.ndarray'> <class 'numpy.float32'> <class 'numpy.int32'>\n"
     ]
    }
   ],
   "source": [
    "NUM_NODES = 150\n",
    "NUM_TOTAL_SAMPLES = len(trainData_by1Nid[0]['y'])\n",
    "\n",
    "def assert_groupByNode(dataByNid, numNodes_, numTotalSamples_, numClassesPerNode_):\n",
    "    numNodes = len(dataByNid)\n",
    "    numTotalSamples = sum( len(n['y']) for n in dataByNid )\n",
    "    numClassesPerNode = np.mean([ len(np.unique(n['y'])) for n in dataByNid ])\n",
    "    xType = type(dataByNid[0]['x'][0])\n",
    "    xPixelType = type(dataByNid[0]['x'][0].flatten()[0])\n",
    "    yType = type(dataByNid[0]['y'][0].flatten()[0])\n",
    "    print(numNodes, numTotalSamples, numClassesPerNode, xType, xPixelType, yType)\n",
    "    assert( numNodes == numNodes_ )\n",
    "    assert( numTotalSamples == numTotalSamples_ )\n",
    "    assert( numClassesPerNode == numClassesPerNode_ )\n",
    "    assert( xType == np.ndarray )\n",
    "    assert( xPixelType == np.float32 )\n",
    "    assert( yType == np.int32 )\n",
    "\n",
    "trainData_byNid = hfl_util.groupByNode(trainData_by1Nid, 'one', NUM_NODES)\n",
    "assert_groupByNode(trainData_byNid, NUM_NODES, NUM_TOTAL_SAMPLES, 1)\n",
    "\n",
    "trainData_byNid = hfl_util.groupByNode(trainData_by1Nid, 'half', NUM_NODES)\n",
    "assert_groupByNode(trainData_byNid, NUM_NODES, NUM_TOTAL_SAMPLES, numTotalClasses/2)\n",
    "\n",
    "trainData_byNid = hfl_util.groupByNode(trainData_by1Nid, 'all', NUM_NODES)\n",
    "assert_groupByNode(trainData_byNid, NUM_NODES, NUM_TOTAL_SAMPLES, numTotalClasses)"
   ]
  },
  {
   "cell_type": "markdown",
   "metadata": {},
   "source": [
    "# Test Node & Edge Non-IID"
   ]
  },
  {
   "cell_type": "code",
   "execution_count": 3,
   "metadata": {},
   "outputs": [
    {
     "name": "stdout",
     "output_type": "stream",
     "text": [
      "400 20 20.0 1.0 1.0 <class 'numpy.ndarray'> <class 'numpy.float32'> <class 'numpy.int32'>\n",
      "400 20 20.0 1.0 5.0 <class 'numpy.ndarray'> <class 'numpy.float32'> <class 'numpy.int32'>\n",
      "400 20 20.0 1.0 10.0 <class 'numpy.ndarray'> <class 'numpy.float32'> <class 'numpy.int32'>\n",
      "400 20 20.0 5.0 5.0 <class 'numpy.ndarray'> <class 'numpy.float32'> <class 'numpy.int32'>\n",
      "400 20 20.0 5.0 10.0 <class 'numpy.ndarray'> <class 'numpy.float32'> <class 'numpy.int32'>\n",
      "400 20 20.0 10.0 10.0 <class 'numpy.ndarray'> <class 'numpy.float32'> <class 'numpy.int32'>\n"
     ]
    }
   ],
   "source": [
    "NUM_NODES = 400\n",
    "NUM_EDGES = 20\n",
    "NUM_NODES_PER_EDGE = NUM_NODES / NUM_EDGES\n",
    "\n",
    "def assert_groupByEdge(dataByNid, z, numNodes_, numEdges_, numNodesPerEdge_, numClassesPerNode_, numClassesPerEdge_):\n",
    "    numNodes = len(dataByNid)\n",
    "    numEdges = len(np.unique(z))\n",
    "    nids_byGid = hfl_util.to_nids_byGid(z)\n",
    "    numNodesPerEdge = np.mean([ len(nids) for nids in nids_byGid ])\n",
    "    numClassesPerNode = np.mean([ np.mean([ len(np.unique(dataByNid[nid]['y'])) for nid in nids ]) for nids in nids_byGid ])\n",
    "    numClassesPerEdge = np.mean([ len(np.unique(np.concatenate([dataByNid[nid]['y'] for nid in nids]))) for nids in nids_byGid ])\n",
    "    xType = type(dataByNid[0]['x'][0])\n",
    "    xPixelType = type(dataByNid[0]['x'][0].flatten()[0])\n",
    "    yType = type(dataByNid[0]['y'][0].flatten()[0])\n",
    "    print(numNodes, numEdges, numNodesPerEdge, numClassesPerNode, numClassesPerEdge, xType, xPixelType, yType)\n",
    "    assert( numNodes == numNodes_ )\n",
    "    assert( numEdges == numEdges_ )\n",
    "    assert( numNodesPerEdge == numNodesPerEdge_ )\n",
    "    assert( numClassesPerNode == numClassesPerNode_ )\n",
    "    assert( numClassesPerEdge == numClassesPerEdge_ )\n",
    "    assert( xType == np.ndarray )\n",
    "    assert( xPixelType == np.float32 )\n",
    "    assert( yType == np.int32 )\n",
    "\n",
    "(trainData_byNid, train_z) = hfl_util.groupByEdge(MODEL_NAME, DATA_NAME, trainData, 'one', 'one', NUM_NODES, NUM_EDGES, flatten)\n",
    "assert_groupByEdge(trainData_byNid, train_z, NUM_NODES, NUM_EDGES, NUM_NODES_PER_EDGE, 1, 1)\n",
    "\n",
    "(trainData_byNid, train_z) = hfl_util.groupByEdge(MODEL_NAME, DATA_NAME, trainData, 'one', 'half', NUM_NODES, NUM_EDGES, flatten)\n",
    "assert_groupByEdge(trainData_byNid, train_z, NUM_NODES, NUM_EDGES, NUM_NODES_PER_EDGE, 1, numTotalClasses/2)\n",
    "\n",
    "(trainData_byNid, train_z) = hfl_util.groupByEdge(MODEL_NAME, DATA_NAME, trainData, 'one', 'all', NUM_NODES, NUM_EDGES, flatten)\n",
    "assert_groupByEdge(trainData_byNid, train_z, NUM_NODES, NUM_EDGES, NUM_NODES_PER_EDGE, 1, numTotalClasses)\n",
    "\n",
    "(trainData_byNid, train_z) = hfl_util.groupByEdge(MODEL_NAME, DATA_NAME, trainData, 'half', 'half', NUM_NODES, NUM_EDGES, flatten)\n",
    "assert_groupByEdge(trainData_byNid, train_z, NUM_NODES, NUM_EDGES, NUM_NODES_PER_EDGE, numTotalClasses/2, numTotalClasses/2)\n",
    "\n",
    "(trainData_byNid, train_z) = hfl_util.groupByEdge(MODEL_NAME, DATA_NAME, trainData, 'half', 'all', NUM_NODES, NUM_EDGES, flatten)\n",
    "assert_groupByEdge(trainData_byNid, train_z, NUM_NODES, NUM_EDGES, NUM_NODES_PER_EDGE, numTotalClasses/2, numTotalClasses)\n",
    "\n",
    "(trainData_byNid, train_z) = hfl_util.groupByEdge(MODEL_NAME, DATA_NAME, trainData, 'all', 'all', NUM_NODES, NUM_EDGES, flatten)\n",
    "assert_groupByEdge(trainData_byNid, train_z, NUM_NODES, NUM_EDGES, NUM_NODES_PER_EDGE, numTotalClasses, numTotalClasses)"
   ]
  },
  {
   "cell_type": "code",
   "execution_count": 4,
   "metadata": {},
   "outputs": [
    {
     "name": "stdout",
     "output_type": "stream",
     "text": [
      "600 20 30.0 1.0 1.0 <class 'numpy.ndarray'> <class 'numpy.float32'> <class 'numpy.int32'>\n",
      "600 20 30.0 1.0 5.0 <class 'numpy.ndarray'> <class 'numpy.float32'> <class 'numpy.int32'>\n",
      "600 20 30.0 1.0 10.0 <class 'numpy.ndarray'> <class 'numpy.float32'> <class 'numpy.int32'>\n",
      "600 20 30.0 5.0 5.0 <class 'numpy.ndarray'> <class 'numpy.float32'> <class 'numpy.int32'>\n",
      "600 20 30.0 5.0 10.0 <class 'numpy.ndarray'> <class 'numpy.float32'> <class 'numpy.int32'>\n",
      "600 20 30.0 10.0 10.0 <class 'numpy.ndarray'> <class 'numpy.float32'> <class 'numpy.int32'>\n"
     ]
    }
   ],
   "source": [
    "NUM_NODES = 600\n",
    "NUM_EDGES = 20\n",
    "NUM_NODES_PER_EDGE = NUM_NODES / NUM_EDGES\n",
    "\n",
    "(trainData_byNid, train_z) = hfl_util.groupByEdge(MODEL_NAME, DATA_NAME, trainData, 'one', 'one', NUM_NODES, NUM_EDGES, flatten)\n",
    "assert_groupByEdge(trainData_byNid, train_z, NUM_NODES, NUM_EDGES, NUM_NODES_PER_EDGE, 1, 1)\n",
    "\n",
    "(trainData_byNid, train_z) = hfl_util.groupByEdge(MODEL_NAME, DATA_NAME, trainData, 'one', 'half', NUM_NODES, NUM_EDGES, flatten)\n",
    "assert_groupByEdge(trainData_byNid, train_z, NUM_NODES, NUM_EDGES, NUM_NODES_PER_EDGE, 1, numTotalClasses/2)\n",
    "\n",
    "(trainData_byNid, train_z) = hfl_util.groupByEdge(MODEL_NAME, DATA_NAME, trainData, 'one', 'all', NUM_NODES, NUM_EDGES, flatten)\n",
    "assert_groupByEdge(trainData_byNid, train_z, NUM_NODES, NUM_EDGES, NUM_NODES_PER_EDGE, 1, numTotalClasses)\n",
    "\n",
    "(trainData_byNid, train_z) = hfl_util.groupByEdge(MODEL_NAME, DATA_NAME, trainData, 'half', 'half', NUM_NODES, NUM_EDGES, flatten)\n",
    "assert_groupByEdge(trainData_byNid, train_z, NUM_NODES, NUM_EDGES, NUM_NODES_PER_EDGE, numTotalClasses/2, numTotalClasses/2)\n",
    "\n",
    "(trainData_byNid, train_z) = hfl_util.groupByEdge(MODEL_NAME, DATA_NAME, trainData, 'half', 'all', NUM_NODES, NUM_EDGES, flatten)\n",
    "assert_groupByEdge(trainData_byNid, train_z, NUM_NODES, NUM_EDGES, NUM_NODES_PER_EDGE, numTotalClasses/2, numTotalClasses)\n",
    "\n",
    "(trainData_byNid, train_z) = hfl_util.groupByEdge(MODEL_NAME, DATA_NAME, trainData, 'all', 'all', NUM_NODES, NUM_EDGES, flatten)\n",
    "assert_groupByEdge(trainData_byNid, train_z, NUM_NODES, NUM_EDGES, NUM_NODES_PER_EDGE, numTotalClasses, numTotalClasses)"
   ]
  }
 ],
 "metadata": {
  "kernelspec": {
   "display_name": "Python 3",
   "language": "python",
   "name": "python3"
  },
  "language_info": {
   "codemirror_mode": {
    "name": "ipython",
    "version": 3
   },
   "file_extension": ".py",
   "mimetype": "text/x-python",
   "name": "python",
   "nbconvert_exporter": "python",
   "pygments_lexer": "ipython3",
   "version": "3.5.2"
  }
 },
 "nbformat": 4,
 "nbformat_minor": 4
}
